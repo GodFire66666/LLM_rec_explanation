{
 "cells": [
  {
   "cell_type": "code",
   "execution_count": 1,
   "metadata": {
    "pycharm": {
     "name": "#%%\n"
    }
   },
   "outputs": [
    {
     "name": "stdout",
     "output_type": "stream",
     "text": [
      "\u001B[1m\u001B[37mTnT                     \u001B[m  Fri Sep 29 22:21:02 2023  \u001B[1m\u001B[30m515.86.01\u001B[m\n",
      "\u001B[36m[0]\u001B[m \u001B[34mNVIDIA A100-PCIE-40GB\u001B[m |\u001B[1m\u001B[31m 56°C\u001B[m, \u001B[1m\u001B[32m 99 %\u001B[m | \u001B[36m\u001B[1m\u001B[33m 5599\u001B[m / \u001B[33m40960\u001B[m MB | \u001B[1m\u001B[30mcode_sheep\u001B[m(\u001B[33m947M\u001B[m) \u001B[1m\u001B[30mhss0729\u001B[m(\u001B[33m1973M\u001B[m) \u001B[1m\u001B[30mhss0729\u001B[m(\u001B[33m2109M\u001B[m)\n",
      "\u001B[36m[1]\u001B[m \u001B[34mNVIDIA A100-PCIE-40GB\u001B[m |\u001B[1m\u001B[31m 58°C\u001B[m, \u001B[1m\u001B[32m100 %\u001B[m | \u001B[36m\u001B[1m\u001B[33m10749\u001B[m / \u001B[33m40960\u001B[m MB | \u001B[1m\u001B[30mhss0729\u001B[m(\u001B[33m6251M\u001B[m) \u001B[1m\u001B[30mhss0729\u001B[m(\u001B[33m2077M\u001B[m) \u001B[1m\u001B[30mhss0729\u001B[m(\u001B[33m1853M\u001B[m)\n",
      "\u001B[36m[2]\u001B[m \u001B[34mNVIDIA A100-PCIE-40GB\u001B[m |\u001B[31m 41°C\u001B[m, \u001B[32m  0 %\u001B[m | \u001B[36m\u001B[1m\u001B[33m 8484\u001B[m / \u001B[33m40960\u001B[m MB | \u001B[1m\u001B[30mruili\u001B[m(\u001B[33m3959M\u001B[m) \u001B[1m\u001B[30mruili\u001B[m(\u001B[33m3959M\u001B[m)\n",
      "\u001B[36m[3]\u001B[m \u001B[34mNVIDIA A100-PCIE-40GB\u001B[m |\u001B[1m\u001B[31m 73°C\u001B[m, \u001B[1m\u001B[32m 96 %\u001B[m | \u001B[36m\u001B[1m\u001B[33m29355\u001B[m / \u001B[33m40960\u001B[m MB | \u001B[1m\u001B[30mzhiding\u001B[m(\u001B[33m28787M\u001B[m)\n",
      "\u001B[36m[4]\u001B[m \u001B[34mNVIDIA A100-PCIE-40GB\u001B[m |\u001B[1m\u001B[31m 66°C\u001B[m, \u001B[1m\u001B[32m 89 %\u001B[m | \u001B[36m\u001B[1m\u001B[33m37825\u001B[m / \u001B[33m40960\u001B[m MB | \u001B[1m\u001B[30myhzhang\u001B[m(\u001B[33m37259M\u001B[m)\n",
      "\u001B[36m[5]\u001B[m \u001B[34mNVIDIA A100-PCIE-40GB\u001B[m |\u001B[1m\u001B[31m 68°C\u001B[m, \u001B[1m\u001B[32m 96 %\u001B[m | \u001B[36m\u001B[1m\u001B[33m37827\u001B[m / \u001B[33m40960\u001B[m MB | \u001B[1m\u001B[30myhzhang\u001B[m(\u001B[33m37259M\u001B[m)\n",
      "\u001B[36m[6]\u001B[m \u001B[34mNVIDIA A100-PCIE-40GB\u001B[m |\u001B[1m\u001B[31m 63°C\u001B[m, \u001B[1m\u001B[32m 95 %\u001B[m | \u001B[36m\u001B[1m\u001B[33m20787\u001B[m / \u001B[33m40960\u001B[m MB | \u001B[1m\u001B[30mcode_sheep\u001B[m(\u001B[33m20219M\u001B[m)\n",
      "\u001B[36m[7]\u001B[m \u001B[34mNVIDIA A100-PCIE-40GB\u001B[m |\u001B[31m 25°C\u001B[m, \u001B[32m  0 %\u001B[m | \u001B[36m\u001B[1m\u001B[33m  566\u001B[m / \u001B[33m40960\u001B[m MB |\n"
     ]
    }
   ],
   "source": [
    "!gpustat"
   ]
  },
  {
   "cell_type": "code",
   "execution_count": 2,
   "metadata": {
    "pycharm": {
     "name": "#%%\n"
    }
   },
   "outputs": [
    {
     "name": "stdout",
     "output_type": "stream",
     "text": [
      "\n",
      "===================================BUG REPORT===================================\n",
      "Welcome to bitsandbytes. For bug reports, please run\n",
      "\n",
      "python -m bitsandbytes\n",
      "\n",
      " and submit this information together with your error trace to: https://github.com/TimDettmers/bitsandbytes/issues\n",
      "================================================================================\n",
      "bin /data/Yucong/anaconda3/lib/python3.9/site-packages/bitsandbytes/libbitsandbytes_cuda113.so\n",
      "CUDA SETUP: CUDA runtime path found: /data/Yucong/anaconda3/lib/libcudart.so.11.0\n",
      "CUDA SETUP: Highest compute capability among GPUs detected: 8.0\n",
      "CUDA SETUP: Detected CUDA version 113\n",
      "CUDA SETUP: Loading binary /data/Yucong/anaconda3/lib/python3.9/site-packages/bitsandbytes/libbitsandbytes_cuda113.so...\n"
     ]
    },
    {
     "name": "stderr",
     "output_type": "stream",
     "text": [
      "/data/Yucong/anaconda3/lib/python3.9/site-packages/bitsandbytes/cuda_setup/main.py:149: UserWarning: Found duplicate ['libcudart.so', 'libcudart.so.11.0', 'libcudart.so.12.0'] files: {PosixPath('/data/Yucong/anaconda3/lib/libcudart.so.11.0'), PosixPath('/data/Yucong/anaconda3/lib/libcudart.so')}.. We'll flip a coin and try one of these, in order to fail forward.\n",
      "Either way, this might cause trouble in the future:\n",
      "If you get `CUDA error: invalid device function` errors, the above might be the cause and the solution is to make sure only one ['libcudart.so', 'libcudart.so.11.0', 'libcudart.so.12.0'] in the paths that we search based on your env.\n",
      "  warn(msg)\n",
      "2023-09-15 11:07:48.510777: I tensorflow/stream_executor/platform/default/dso_loader.cc:53] Successfully opened dynamic library libcudart.so.11.0\n"
     ]
    }
   ],
   "source": [
    "import sys\n",
    "import json\n",
    "import os\n",
    "os.environ['CUDA_VISIBLE_DEVICES']='1'\n",
    "\n",
    "import fire\n",
    "# import gradio as gr\n",
    "import torch\n",
    "import transformers\n",
    "from peft import PeftModel\n",
    "from transformers import GenerationConfig, LlamaForCausalLM, LlamaTokenizer, AutoTokenizer, AutoModelForCausalLM, AutoModel, TextStreamer\n",
    "\n",
    "# from utils.prompter import Prompter\n",
    "import bitsandbytes as bnb\n",
    "import warnings\n",
    "warnings.filterwarnings('ignore')"
   ]
  },
  {
   "cell_type": "code",
   "execution_count": 3,
   "metadata": {
    "pycharm": {
     "name": "#%%\n"
    }
   },
   "outputs": [
    {
     "name": "stdout",
     "output_type": "stream",
     "text": [
      "True\n"
     ]
    }
   ],
   "source": [
    "print(torch.cuda.is_available())"
   ]
  },
  {
   "cell_type": "code",
   "execution_count": 4,
   "metadata": {
    "pycharm": {
     "name": "#%%\n"
    }
   },
   "outputs": [],
   "source": [
    "load_8bit = False\n",
    "base_model = 'meta-llama/Llama-2-7b-chat-hf'\n",
    "model_path = 'meta-llama/Llama-2-7b-chat-hf'\n",
    "model_name = 'LLaMA2'\n",
    "\n",
    "if torch.cuda.is_available():\n",
    "    device = \"cuda\""
   ]
  },
  {
   "cell_type": "code",
   "execution_count": 5,
   "metadata": {
    "pycharm": {
     "name": "#%%\n"
    }
   },
   "outputs": [
    {
     "name": "stdout",
     "output_type": "stream",
     "text": [
      "Loading tokenizer...\n",
      "Loading model...\n"
     ]
    },
    {
     "data": {
      "application/vnd.jupyter.widget-view+json": {
       "model_id": "3c2fa4b1b6ae41dfaaaf41533c55ee78",
       "version_major": 2,
       "version_minor": 0
      },
      "text/plain": [
       "Loading checkpoint shards:   0%|          | 0/2 [00:00<?, ?it/s]"
      ]
     },
     "metadata": {},
     "output_type": "display_data"
    }
   ],
   "source": [
    "if model_name in ['ziya', 'Qwen', 'LLaMA2']:\n",
    "    print('Loading tokenizer...')\n",
    "    tokenizer = AutoTokenizer.from_pretrained(base_model, trust_remote_code=True)\n",
    "\n",
    "    print('Loading model...')\n",
    "    model = AutoModelForCausalLM.from_pretrained(\n",
    "        base_model,\n",
    "        load_in_8bit=load_8bit,\n",
    "        torch_dtype=torch.float16,\n",
    "        device_map=\"auto\",\n",
    "        trust_remote_code=True\n",
    "    )\n",
    "\n",
    "    if not load_8bit:\n",
    "        model.half()  # seems to fix bugs for some users.\n",
    "\n",
    "    model.eval()\n",
    "\n",
    "    if torch.__version__ >= \"2\" and sys.platform != \"win32\":\n",
    "        model = torch.compile(model)\n"
   ]
  },
  {
   "cell_type": "code",
   "execution_count": 6,
   "metadata": {
    "pycharm": {
     "name": "#%%\n"
    }
   },
   "outputs": [],
   "source": [
    "import json\n",
    "import os.path as osp\n",
    "from typing import Union\n",
    "\n",
    "\n",
    "class Prompter_LLaMA2(object):\n",
    "    __slots__ = (\"template\", \"_verbose\")\n",
    "\n",
    "    def __init__(self, verbose: bool = False):\n",
    "        super().__init__()\n",
    "\n",
    "    def generate_prompt(\n",
    "        self,\n",
    "        instruction: str,\n",
    "        input: Union[None, str] = None,\n",
    "    ) -> str:        \n",
    "        if input:\n",
    "            prompt = instruction + input\n",
    "        else:\n",
    "            prompt = instruction\n",
    "        system_message = \"Please give a proper response to the instruction. Do not say 'I don't know.\"\n",
    "        prompt_template=f'''[INST] <<SYS>>\n",
    "{system_message}\n",
    "<</SYS>>\n",
    "\n",
    "{prompt} [/INST]'''\n",
    "        \n",
    "        return prompt_template\n",
    "\n",
    "    def get_response(self, output: str) -> str:\n",
    "        return output.split('[/INST]')[-1].strip(tokenizer.eos_token).strip()\n",
    "\n",
    "prompter = Prompter_LLaMA2()\n",
    "\n",
    "def evaluate(\n",
    "    instruction,\n",
    "    input=None,\n",
    "    temperature=0.1,\n",
    "    top_p=0.75,\n",
    "    top_k=40,\n",
    "    num_beams=1,\n",
    "    max_new_tokens=4096,\n",
    "    **kwargs,\n",
    "):\n",
    "    \n",
    "    streamer = TextStreamer(tokenizer)\n",
    "    prompt = prompter.generate_prompt(instruction, input)\n",
    "    inputs = tokenizer(prompt, return_tensors=\"pt\")\n",
    "    input_ids = inputs[\"input_ids\"].to(device)\n",
    "    generation_config = GenerationConfig(\n",
    "        temperature=temperature,\n",
    "        top_p=top_p,\n",
    "        top_k=top_k,\n",
    "        num_beams=num_beams,\n",
    "        **kwargs,\n",
    "    )\n",
    "    with torch.no_grad():\n",
    "        generation_output = model.generate(\n",
    "            input_ids=input_ids,\n",
    "            generation_config=generation_config,\n",
    "            return_dict_in_generate=True,\n",
    "            output_scores=True,\n",
    "            max_new_tokens=max_new_tokens,\n",
    "            # streamer=streamer,\n",
    "        )\n",
    "    s = generation_output.sequences[0]\n",
    "    output = tokenizer.decode(s, skip_special_tokens=True)\n",
    "    return instruction, prompter.get_response(output)"
   ]
  },
  {
   "cell_type": "code",
   "execution_count": 7,
   "metadata": {
    "pycharm": {
     "name": "#%%\n"
    }
   },
   "outputs": [
    {
     "name": "stdout",
     "output_type": "stream",
     "text": [
      "Hello! It's nice to meet you. How can I assist you today?\n"
     ]
    }
   ],
   "source": [
    "instruction = 'hello'\n",
    "instruction, response = evaluate(instruction)\n",
    "print(response)"
   ]
  },
  {
   "cell_type": "code",
   "execution_count": null,
   "metadata": {
    "pycharm": {
     "name": "#%%\n"
    }
   },
   "outputs": [],
   "source": [
    "import pandas as pd\n",
    "from recbole.quick_start import load_data_and_model\n",
    "dataset_name = 'steam'\n",
    "rec_model_path = '../../RecBole/experiments/steam/BPR/BPR-Aug-28-2023_11-58-38.pth'\n",
    "\n",
    "config, rec_model, dataset, train_data, valid_data, test_data = load_data_and_model(\n",
    "    model_file=rec_model_path,\n",
    ")\n",
    "\n",
    "df_item = pd.read_csv(f'dataset/{dataset_name}/{dataset_name}.item', sep='\\t')\n",
    "df_inter = pd.read_csv(f'dataset/{dataset_name}/{dataset_name}.inter', sep='\\t')\n",
    "if 'ml' in dataset_name:\n",
    "    df_user = pd.read_csv(f'dataset/{dataset_name}/{dataset_name}.user', sep='\\t')"
   ]
  },
  {
   "cell_type": "code",
   "execution_count": 9,
   "metadata": {
    "pycharm": {
     "name": "#%%\n"
    }
   },
   "outputs": [],
   "source": [
    "from recbole.utils.case_study import full_sort_topk\n",
    "def get_instruction_ml(idx):\n",
    "    # user_info\n",
    "    user_info = df_user[df_user[\"user_id:token\"] == int(idx)]\n",
    "    user_age = user_info[\"age:token\"].values[0]\n",
    "    user_gender = 'male' if user_info[\"gender:token\"].values[0] == 'M' else 'female'\n",
    "    user_occupation = user_info[\"occupation:token\"].values[0]\n",
    "\n",
    "    # history_inter_info\n",
    "    df_inter_user = df_inter[df_inter['user_id:token'] == int(idx)]\n",
    "    his_id_list = df_inter_user['item_id:token'].tolist()[-50:] \n",
    "    uid_series = dataset.token2id(dataset.uid_field, [idx])\n",
    "    topk_score, topk_iid_list = full_sort_topk(uid_series, rec_model, test_data, k=1, device=config['device'])\n",
    "    rec_list = dataset.id2token(dataset.iid_field, topk_iid_list.cpu()) \n",
    "\n",
    "    # next_item_info\n",
    "    next_item = df_item[df_item[\"item_id:token\"] == int(rec_list)]\n",
    "    next_item_title = next_item[\"movie_title:token_seq\"].values[0]\n",
    "    next_item_class = next_item[\"class:token_seq\"].values[0]\n",
    "\n",
    "    instruction = 'The history films watched by the customer are:\\n'\n",
    "    for i, id in enumerate(his_id_list):\n",
    "        instruction += f'{i+1}: {df_item[df_item[\"item_id:token\"] == id][\"movie_title:token_seq\"].values[0]}' + '\\n'\n",
    "        instruction += f'The class of the movie is {df_item[df_item[\"item_id:token\"] == id][\"class:token_seq\"].values[0]}.\\n'\n",
    "\n",
    "    # print(f\"The age of the customer is {user_age}, the gender is {user_gender} and the customer's occupation is {user_occupation}.\")\n",
    "\n",
    "\n",
    "    instruction += f\"\"\"\n",
    "As a recommender system in the movie domain, based on the customer's historical viewing records, \\\n",
    "historical viewing movie information and user information, \\\n",
    "tell the customer why he or she needs to watch this movie, and what are the advantages of this movie.\n",
    "Give reasons why the customer needs to watch this movie with the following title and class:\n",
    "{next_item_title}.\n",
    "The class of the movie is {next_item_class}.\n",
    "\n",
    "Use ONLY the information mentioned above, especially the history record. \\\n",
    "You're responding to the CUSTOMER. Directly tell the customer the reason. \\\n",
    "Respond in SHORT and CONCISE language. Your response should be WITHIN 75 words. \\\n",
    "You can infer the customer's information from the history record, such as age, gender, occupation, etc.\n",
    "\n",
    "The output format is as follows:\n",
    "user information: <age, gender, occupation>\n",
    "recommendation reason: <reason>\n",
    "\n",
    "\"\"\"\n",
    "    return instruction\n",
    "\n",
    "def get_instruction_Amazon(idx):\n",
    "    # history_inter_info\n",
    "    df_inter_user = df_inter[df_inter['user_id:token'] == idx]\n",
    "    his_id_list = df_inter_user['item_id:token'].tolist()[-10:]\n",
    "    uid_series = dataset.token2id(dataset.uid_field, [idx])\n",
    "    topk_score, topk_iid_list = full_sort_topk(uid_series, rec_model, test_data, k=1, device=config['device'])\n",
    "    rec_list = dataset.id2token(dataset.iid_field, topk_iid_list.cpu()) \n",
    "    print(rec_list)\n",
    "    # next_item_info\n",
    "    next_item = df_item[df_item[\"item_id:token\"] == rec_list]\n",
    "    next_item_title = next_item[\"title:token\"].values[0]\n",
    "    next_item_brand = next_item[\"brand:token\"].values[0]\n",
    "    brand_prompt = f'The brand of the movie is {next_item_brand}.\\n' if isinstance(next_item_brand, str) else ''\n",
    "    next_item_type = next_item[\"sales_type:token\"].values[0]\n",
    "    type_prompt = f'The type of the product is {next_item_type}.\\n' if isinstance(next_item_type, str) else ''\n",
    "\n",
    "    instruction = 'The history products bought by the customer are:\\n'\n",
    "    print(his_id_list)\n",
    "    for i, id in enumerate(his_id_list):\n",
    "        item = df_item[df_item[\"item_id:token\"] == id]\n",
    "        item_title = item[\"title:token\"].values[0]\n",
    "        item_brand = item[\"brand:token\"].values[0]\n",
    "        item_type = item[\"sales_type:token\"].values[0]\n",
    "\n",
    "        instruction += f'{i+1}: {item_title}' + '\\n'\n",
    "        instruction += f'The brand of the movie is {item_brand}.\\n' if math.isnan(item_brand) else ''\n",
    "        instruction += f'The type of the product is {item_type}.\\n' if math.isnan(item_type) else ''\n",
    "\n",
    "    instruction += f\"\"\"\n",
    "The age of the customer is {user_age}, the gender is {user_gender} and the customer's occupation is {user_occupation}. \\\n",
    "As a recommender system in the movie domain, based on the customer's HISTORICAL viewing records, \\\n",
    "HISTORICAL viewing movie information and user information, \\\n",
    "tell the customer why he or she needs to watch this movie, and what are the advantages of this movie.\n",
    "Give reasons why the customer needs to watch this movie with the following title and class:\n",
    "{next_item_title}.\n",
    "{brand_prompt}\n",
    "{type_prompt}\n",
    "\n",
    "Use ONLY the information mentioned above, especially the history record. \\\n",
    "You're responding to the CUSTOMER. Directly tell the customer the reason. \\\n",
    "Respond in SHORT and CONCISE language. Your response should be WITHIN 75 words.\n",
    "\n",
    "\"\"\"\n",
    "    return instruction\n",
    "\n",
    "def get_instruction_mind(idx):\n",
    "    # history_inter_info\n",
    "    df_inter_user = df_inter[df_inter['user_id:token'] == int(idx)]\n",
    "    his_id_list = df_inter_user['item_id:token'].tolist()[-10:]\n",
    "    uid_series = dataset.token2id(dataset.uid_field, [idx])\n",
    "    topk_score, topk_iid_list = full_sort_topk(uid_series, rec_model, test_data, k=1, device=config['device'])\n",
    "    rec_list = dataset.id2token(dataset.iid_field, topk_iid_list.cpu()) \n",
    "    # next_item_info\n",
    "    next_item = df_item[df_item[\"item_id:token\"] == int(rec_list)]\n",
    "    next_item_title = next_item[\"title:token_seq\"].values[0]\n",
    "    next_item_category = next_item[\"category:token_seq\"].values[0]\n",
    "    next_item_sub_category = next_item[\"sub_category:token_seq\"].values[0]\n",
    "    next_item_abstract = next_item[\"abstract:token_seq\"].values[0]\n",
    "\n",
    "\n",
    "    instruction = 'The history news viewed by the customer are:\\n'\n",
    "    for i, id in enumerate(his_id_list):\n",
    "        item = df_item[df_item[\"item_id:token\"] == id]\n",
    "        item_title = item[\"title:token_seq\"].values[0]\n",
    "        item_category = item[\"category:token_seq\"].values[0]\n",
    "        item_sub_category = item[\"sub_category:token_seq\"].values[0]\n",
    "\n",
    "        instruction += f'{i+1}: {item_title}' + '\\n'\n",
    "        instruction += f'The category of the news is {item_category}.\\n'\n",
    "        instruction += f'The sub category of the news is {item_sub_category}.\\n'\n",
    "\n",
    "    instruction += f\"\"\"\n",
    "As a recommender system in the news domin, according to the user's previous news viewing history , \\\n",
    "tell the customer why he or she needs to watch this news.\n",
    "Give reasons why the customer needs to watch this news with the following title and category:\n",
    "{next_item_title}.\n",
    "The category of the news is {next_item_category}.\n",
    "The sub category of the news is {next_item_sub_category}.\n",
    "\n",
    "Use ONLY the information mentioned above, especially the history record. \\\n",
    "You're responding to the CUSTOMER. Directly tell the customer the reason. \\\n",
    "Respond in SHORT and CONCISE language. Your response should be WITHIN 75 words.\n",
    "\n",
    "\"\"\"\n",
    "    return instruction\n",
    "\n",
    "def get_instruction_steam(idx):\n",
    "    # history_inter_info\n",
    "    df_inter_user = df_inter[df_inter['user_id:token'] == int(idx)]\n",
    "    his_id_list = df_inter_user['product_id:token'].tolist()[-10:]\n",
    "    uid_series = dataset.token2id(dataset.uid_field, [idx])\n",
    "    topk_score, topk_iid_list = full_sort_topk(uid_series, rec_model, test_data, k=1, device=config['device'])\n",
    "    rec_list = dataset.id2token(dataset.iid_field, topk_iid_list.cpu()) \n",
    "    # next_item_info\n",
    "    next_item = df_item[df_item[\"id:token\"] == int(rec_list)]\n",
    "    next_item_title = next_item[\"app_name:token\"].values[0]\n",
    "    next_item_tag = next_item[\"genres:token_seq\"].values[0]\n",
    "    next_item_price = next_item[\"price:float\"].values[0]\n",
    "\n",
    "\n",
    "    instruction = 'The history games played by the customer are:\\n'\n",
    "    for i, id in enumerate(his_id_list):\n",
    "        item = df_item[df_item[\"id:token\"] == id]\n",
    "        item_title = item[\"app_name:token\"].values[0]\n",
    "        item_tag = item[\"genres:token_seq\"].values[0]\n",
    "\n",
    "        instruction += f'{i+1}: {item_title}' + '\\n'\n",
    "        instruction += f'The tags of the game are {item_tag}.\\n'\n",
    "\n",
    "    instruction += f\"\"\"\n",
    "As a recommender system in the game playing domain, according to the user's HISTORICAL play record , \\\n",
    "tell the customer why he or she needs to play this game, and what are the advantages of this game.\n",
    "Give reasons why the customer needs to play this game with the following title and tags:\n",
    "{next_item_title}.\n",
    "The tags of the game are {next_item_tag}.\n",
    "The price of the game is {next_item_price}.\n",
    "\n",
    "You can infer the game's information from the history record, such as price. \\\n",
    "Use ONLY the information mentioned above, especially the history record. \\\n",
    "You're responding to the CUSTOMER. Directly tell the customer the reason. \\\n",
    "Respond in SHORT and CONCISE language. Your response should be WITHIN 75 words.\n",
    "\n",
    "The output format is as follows:\n",
    "Game information: <only number of the price>\n",
    "Recommendation reason: <reason>\n",
    "\"\"\"\n",
    "    return instruction\n",
    "\n",
    "if dataset_name == 'ml-100k':\n",
    "    get_instruction = get_instruction_ml\n",
    "elif dataset_name == 'Amazon_All_beauty':\n",
    "    get_instruction = get_instruction_Amazon\n",
    "elif dataset_name == 'mind_small_dev':\n",
    "    get_instruction = get_instruction_mind\n",
    "elif dataset_name == 'steam':\n",
    "    get_instruction = get_instruction_steam"
   ]
  },
  {
   "cell_type": "code",
   "execution_count": 10,
   "metadata": {
    "pycharm": {
     "name": "#%%\n"
    }
   },
   "outputs": [
    {
     "name": "stderr",
     "output_type": "stream",
     "text": [
      "  0%|          | 9549/2567538 [00:20<1:30:42, 469.97it/s]\n"
     ]
    },
    {
     "data": {
      "text/plain": [
       "[13,\n",
       " 17,\n",
       " 31,\n",
       " 41,\n",
       " 42,\n",
       " 75,\n",
       " 78,\n",
       " 80,\n",
       " 85,\n",
       " 94,\n",
       " 98,\n",
       " 100,\n",
       " 104,\n",
       " 106,\n",
       " 109,\n",
       " 112,\n",
       " 115,\n",
       " 122,\n",
       " 136,\n",
       " 149,\n",
       " 154,\n",
       " 155,\n",
       " 158,\n",
       " 159,\n",
       " 160,\n",
       " 164,\n",
       " 171,\n",
       " 199,\n",
       " 206,\n",
       " 225,\n",
       " 230,\n",
       " 238,\n",
       " 240,\n",
       " 249,\n",
       " 257,\n",
       " 263,\n",
       " 272,\n",
       " 282,\n",
       " 283,\n",
       " 285,\n",
       " 286,\n",
       " 295,\n",
       " 298,\n",
       " 336,\n",
       " 337,\n",
       " 340,\n",
       " 344,\n",
       " 347,\n",
       " 352,\n",
       " 353,\n",
       " 360,\n",
       " 371,\n",
       " 387,\n",
       " 390,\n",
       " 401,\n",
       " 403,\n",
       " 414,\n",
       " 421,\n",
       " 427,\n",
       " 428,\n",
       " 430,\n",
       " 435,\n",
       " 440,\n",
       " 449,\n",
       " 457,\n",
       " 461,\n",
       " 505,\n",
       " 516,\n",
       " 521,\n",
       " 522,\n",
       " 525,\n",
       " 527,\n",
       " 542,\n",
       " 551,\n",
       " 552,\n",
       " 563,\n",
       " 571,\n",
       " 575,\n",
       " 577,\n",
       " 582,\n",
       " 586,\n",
       " 611,\n",
       " 642,\n",
       " 643,\n",
       " 651,\n",
       " 656,\n",
       " 660,\n",
       " 671,\n",
       " 681,\n",
       " 682,\n",
       " 691,\n",
       " 692,\n",
       " 693,\n",
       " 696,\n",
       " 697,\n",
       " 700,\n",
       " 702,\n",
       " 712,\n",
       " 737,\n",
       " 742,\n",
       " 756,\n",
       " 758,\n",
       " 759,\n",
       " 769,\n",
       " 783,\n",
       " 788,\n",
       " 789,\n",
       " 794,\n",
       " 805,\n",
       " 808,\n",
       " 815,\n",
       " 817,\n",
       " 823,\n",
       " 832,\n",
       " 851,\n",
       " 858,\n",
       " 860,\n",
       " 865,\n",
       " 875,\n",
       " 910,\n",
       " 914,\n",
       " 920,\n",
       " 921,\n",
       " 929,\n",
       " 939,\n",
       " 940,\n",
       " 992,\n",
       " 996,\n",
       " 1015,\n",
       " 1018,\n",
       " 1028,\n",
       " 1032,\n",
       " 1054,\n",
       " 1081,\n",
       " 1092,\n",
       " 1100,\n",
       " 1108,\n",
       " 1110,\n",
       " 1113,\n",
       " 1152,\n",
       " 1160,\n",
       " 1171,\n",
       " 1180,\n",
       " 1197,\n",
       " 1201,\n",
       " 1206,\n",
       " 1214,\n",
       " 1223,\n",
       " 1226,\n",
       " 1227,\n",
       " 1232,\n",
       " 1235,\n",
       " 1249,\n",
       " 1283,\n",
       " 1286,\n",
       " 1291,\n",
       " 1294,\n",
       " 1304,\n",
       " 1334,\n",
       " 1335,\n",
       " 1336,\n",
       " 1341,\n",
       " 1357,\n",
       " 1383,\n",
       " 1385,\n",
       " 1387,\n",
       " 1394,\n",
       " 1397,\n",
       " 1413,\n",
       " 1417,\n",
       " 1425,\n",
       " 1435,\n",
       " 1443,\n",
       " 1444,\n",
       " 1450,\n",
       " 1471,\n",
       " 1475,\n",
       " 1482,\n",
       " 1488,\n",
       " 1495,\n",
       " 1501,\n",
       " 1524,\n",
       " 1528,\n",
       " 1533,\n",
       " 1534,\n",
       " 1540,\n",
       " 1541,\n",
       " 1544,\n",
       " 1545,\n",
       " 1565,\n",
       " 1568,\n",
       " 1571,\n",
       " 1577,\n",
       " 1586,\n",
       " 1606,\n",
       " 1617,\n",
       " 1624,\n",
       " 1626,\n",
       " 1628,\n",
       " 1637,\n",
       " 1639,\n",
       " 1645,\n",
       " 1656,\n",
       " 1662,\n",
       " 1663,\n",
       " 1664,\n",
       " 1667,\n",
       " 1678,\n",
       " 1694,\n",
       " 1702,\n",
       " 1708,\n",
       " 1719,\n",
       " 1749,\n",
       " 1751,\n",
       " 1764,\n",
       " 1771,\n",
       " 1781,\n",
       " 1794,\n",
       " 1796,\n",
       " 1797,\n",
       " 1815,\n",
       " 1817,\n",
       " 1827,\n",
       " 1839,\n",
       " 1861,\n",
       " 1874,\n",
       " 1878,\n",
       " 1879,\n",
       " 1902,\n",
       " 1927,\n",
       " 1945,\n",
       " 1959,\n",
       " 1969,\n",
       " 1977,\n",
       " 1981,\n",
       " 1982,\n",
       " 1985,\n",
       " 1993,\n",
       " 1997,\n",
       " 2001,\n",
       " 2011,\n",
       " 2012,\n",
       " 2014,\n",
       " 2019,\n",
       " 2036,\n",
       " 2040,\n",
       " 2047,\n",
       " 2055,\n",
       " 2067,\n",
       " 2078,\n",
       " 2090,\n",
       " 2112,\n",
       " 2115,\n",
       " 2131,\n",
       " 2136,\n",
       " 2139,\n",
       " 2157,\n",
       " 2158,\n",
       " 2162,\n",
       " 2165,\n",
       " 2168,\n",
       " 2183,\n",
       " 2193,\n",
       " 2198,\n",
       " 2201,\n",
       " 2214,\n",
       " 2225,\n",
       " 2237,\n",
       " 2250,\n",
       " 2251,\n",
       " 2252,\n",
       " 2272,\n",
       " 2297,\n",
       " 2322,\n",
       " 2324,\n",
       " 2328,\n",
       " 2340,\n",
       " 2341,\n",
       " 2345,\n",
       " 2359,\n",
       " 2380,\n",
       " 2395,\n",
       " 2397,\n",
       " 2398,\n",
       " 2405,\n",
       " 2406,\n",
       " 2420,\n",
       " 2428,\n",
       " 2431,\n",
       " 2449,\n",
       " 2451,\n",
       " 2462,\n",
       " 2467,\n",
       " 2477,\n",
       " 2481,\n",
       " 2482,\n",
       " 2486,\n",
       " 2488,\n",
       " 2492,\n",
       " 2493,\n",
       " 2504,\n",
       " 2514,\n",
       " 2515,\n",
       " 2525,\n",
       " 2534,\n",
       " 2542,\n",
       " 2547,\n",
       " 2566,\n",
       " 2573,\n",
       " 2579,\n",
       " 2584,\n",
       " 2594,\n",
       " 2610,\n",
       " 2621,\n",
       " 2624,\n",
       " 2641,\n",
       " 2655,\n",
       " 2656,\n",
       " 2660,\n",
       " 2705,\n",
       " 2717,\n",
       " 2722,\n",
       " 2728,\n",
       " 2735,\n",
       " 2744,\n",
       " 2753,\n",
       " 2757,\n",
       " 2759,\n",
       " 2762,\n",
       " 2763,\n",
       " 2769,\n",
       " 2773,\n",
       " 2785,\n",
       " 2786,\n",
       " 2794,\n",
       " 2802,\n",
       " 2808,\n",
       " 2815,\n",
       " 2819,\n",
       " 2824,\n",
       " 2825,\n",
       " 2832,\n",
       " 2834,\n",
       " 2865,\n",
       " 2867,\n",
       " 2883,\n",
       " 2885,\n",
       " 2891,\n",
       " 2906,\n",
       " 2909,\n",
       " 2916,\n",
       " 2924,\n",
       " 2936,\n",
       " 2943,\n",
       " 2952,\n",
       " 2968,\n",
       " 2969,\n",
       " 2976,\n",
       " 2980,\n",
       " 2983,\n",
       " 3003,\n",
       " 3009,\n",
       " 3020,\n",
       " 3022,\n",
       " 3023,\n",
       " 3025,\n",
       " 3037,\n",
       " 3046,\n",
       " 3048,\n",
       " 3056,\n",
       " 3060,\n",
       " 3063,\n",
       " 3084,\n",
       " 3085,\n",
       " 3096,\n",
       " 3108,\n",
       " 3110,\n",
       " 3117,\n",
       " 3120,\n",
       " 3133,\n",
       " 3138,\n",
       " 3159,\n",
       " 3160,\n",
       " 3165,\n",
       " 3175,\n",
       " 3185,\n",
       " 3188,\n",
       " 3192,\n",
       " 3200,\n",
       " 3201,\n",
       " 3203,\n",
       " 3208,\n",
       " 3222,\n",
       " 3224,\n",
       " 3237,\n",
       " 3248,\n",
       " 3259,\n",
       " 3264,\n",
       " 3269,\n",
       " 3293,\n",
       " 3295,\n",
       " 3306,\n",
       " 3312,\n",
       " 3319,\n",
       " 3327,\n",
       " 3334,\n",
       " 3339,\n",
       " 3358,\n",
       " 3361,\n",
       " 3375,\n",
       " 3377,\n",
       " 3388,\n",
       " 3397,\n",
       " 3405,\n",
       " 3406,\n",
       " 3412,\n",
       " 3436,\n",
       " 3441,\n",
       " 3457,\n",
       " 3462,\n",
       " 3469,\n",
       " 3499,\n",
       " 3502,\n",
       " 3509,\n",
       " 3520,\n",
       " 3545,\n",
       " 3548,\n",
       " 3566,\n",
       " 3568,\n",
       " 3571,\n",
       " 3572,\n",
       " 3574,\n",
       " 3596,\n",
       " 3606,\n",
       " 3607,\n",
       " 3611,\n",
       " 3622,\n",
       " 3630,\n",
       " 3631,\n",
       " 3652,\n",
       " 3653,\n",
       " 3659,\n",
       " 3662,\n",
       " 3679,\n",
       " 3713,\n",
       " 3754,\n",
       " 3761,\n",
       " 3768,\n",
       " 3793,\n",
       " 3800,\n",
       " 3801,\n",
       " 3814,\n",
       " 3825,\n",
       " 3826,\n",
       " 3831,\n",
       " 3843,\n",
       " 3848,\n",
       " 3853,\n",
       " 3868,\n",
       " 3905,\n",
       " 3910,\n",
       " 3913,\n",
       " 3921,\n",
       " 3923,\n",
       " 3941,\n",
       " 3949,\n",
       " 3950,\n",
       " 3967,\n",
       " 3980,\n",
       " 4002,\n",
       " 4004,\n",
       " 4008,\n",
       " 4018,\n",
       " 4027,\n",
       " 4031,\n",
       " 4032,\n",
       " 4039,\n",
       " 4059,\n",
       " 4063,\n",
       " 4066,\n",
       " 4080,\n",
       " 4090,\n",
       " 4093,\n",
       " 4100,\n",
       " 4104,\n",
       " 4128,\n",
       " 4136,\n",
       " 4153,\n",
       " 4171,\n",
       " 4174,\n",
       " 4176,\n",
       " 4189,\n",
       " 4214,\n",
       " 4216,\n",
       " 4246,\n",
       " 4263,\n",
       " 4265,\n",
       " 4298,\n",
       " 4301,\n",
       " 4316,\n",
       " 4317,\n",
       " 4334,\n",
       " 4335,\n",
       " 4349,\n",
       " 4353,\n",
       " 4362,\n",
       " 4364,\n",
       " 4375,\n",
       " 4378,\n",
       " 4392,\n",
       " 4395,\n",
       " 4396,\n",
       " 4399,\n",
       " 4406,\n",
       " 4421,\n",
       " 4431,\n",
       " 4443,\n",
       " 4454,\n",
       " 4465,\n",
       " 4475,\n",
       " 4491,\n",
       " 4495,\n",
       " 4500,\n",
       " 4531,\n",
       " 4535,\n",
       " 4550,\n",
       " 4551,\n",
       " 4556,\n",
       " 4568,\n",
       " 4581,\n",
       " 4598,\n",
       " 4602,\n",
       " 4619,\n",
       " 4639,\n",
       " 4644,\n",
       " 4661,\n",
       " 4667,\n",
       " 4669,\n",
       " 4686,\n",
       " 4695,\n",
       " 4709,\n",
       " 4738,\n",
       " 4746,\n",
       " 4770,\n",
       " 4775,\n",
       " 4776,\n",
       " 4784,\n",
       " 4795,\n",
       " 4808,\n",
       " 4813,\n",
       " 4835,\n",
       " 4839,\n",
       " 4846,\n",
       " 4847,\n",
       " 4874,\n",
       " 4883,\n",
       " 4886,\n",
       " 4906,\n",
       " 4928,\n",
       " 4932,\n",
       " 4960,\n",
       " 4964,\n",
       " 4972,\n",
       " 4973,\n",
       " 4989,\n",
       " 4996,\n",
       " 5002,\n",
       " 5025,\n",
       " 5041,\n",
       " 5056,\n",
       " 5059,\n",
       " 5068,\n",
       " 5090,\n",
       " 5145,\n",
       " 5148,\n",
       " 5156,\n",
       " 5160,\n",
       " 5170,\n",
       " 5171,\n",
       " 5180,\n",
       " 5181,\n",
       " 5185,\n",
       " 5207,\n",
       " 5211,\n",
       " 5214,\n",
       " 5231,\n",
       " 5243,\n",
       " 5263,\n",
       " 5272,\n",
       " 5281,\n",
       " 5291,\n",
       " 5311,\n",
       " 5316,\n",
       " 5329,\n",
       " 5331,\n",
       " 5334,\n",
       " 5337,\n",
       " 5373,\n",
       " 5408,\n",
       " 5435,\n",
       " 5441,\n",
       " 5481,\n",
       " 5482,\n",
       " 5486,\n",
       " 5511,\n",
       " 5513,\n",
       " 5535,\n",
       " 5538,\n",
       " 5539,\n",
       " 5550,\n",
       " 5560,\n",
       " 5568,\n",
       " 5575,\n",
       " 5576,\n",
       " 5578,\n",
       " 5584,\n",
       " 5597,\n",
       " 5598,\n",
       " 5612,\n",
       " 5619,\n",
       " 5625,\n",
       " 5629,\n",
       " 5637,\n",
       " 5657,\n",
       " 5658,\n",
       " 5660,\n",
       " 5667,\n",
       " 5689,\n",
       " 5700,\n",
       " 5702,\n",
       " 5721,\n",
       " 5735,\n",
       " 5742,\n",
       " 5758,\n",
       " 5781,\n",
       " 5786,\n",
       " 5795,\n",
       " 5802,\n",
       " 5815,\n",
       " 5825,\n",
       " 5832,\n",
       " 5859,\n",
       " 5862,\n",
       " 5863,\n",
       " 5865,\n",
       " 5877,\n",
       " 5892,\n",
       " 5915,\n",
       " 5927,\n",
       " 5950,\n",
       " 5960,\n",
       " 5970,\n",
       " 5982,\n",
       " 5994,\n",
       " 5997,\n",
       " 6002,\n",
       " 6004,\n",
       " 6013,\n",
       " 6027,\n",
       " 6032,\n",
       " 6037,\n",
       " 6041,\n",
       " 6046,\n",
       " 6048,\n",
       " 6049,\n",
       " 6051,\n",
       " 6061,\n",
       " 6063,\n",
       " 6066,\n",
       " 6084,\n",
       " 6088,\n",
       " 6099,\n",
       " 6100,\n",
       " 6110,\n",
       " 6124,\n",
       " 6132,\n",
       " 6137,\n",
       " 6142,\n",
       " 6172,\n",
       " 6179,\n",
       " 6182,\n",
       " 6190,\n",
       " 6195,\n",
       " 6197,\n",
       " 6201,\n",
       " 6217,\n",
       " 6234,\n",
       " 6253,\n",
       " 6261,\n",
       " 6280,\n",
       " 6282,\n",
       " 6285,\n",
       " 6301,\n",
       " 6308,\n",
       " 6352,\n",
       " 6356,\n",
       " 6369,\n",
       " 6379,\n",
       " 6394,\n",
       " 6401,\n",
       " 6405,\n",
       " 6412,\n",
       " 6431,\n",
       " 6436,\n",
       " 6442,\n",
       " 6454,\n",
       " 6468,\n",
       " 6469,\n",
       " 6475,\n",
       " 6480,\n",
       " 6489,\n",
       " 6490,\n",
       " 6508,\n",
       " 6509,\n",
       " 6516,\n",
       " 6518,\n",
       " 6523,\n",
       " 6526,\n",
       " 6532,\n",
       " 6536,\n",
       " 6568,\n",
       " 6576,\n",
       " 6580,\n",
       " 6609,\n",
       " 6612,\n",
       " 6625,\n",
       " 6658,\n",
       " 6689,\n",
       " 6709,\n",
       " 6717,\n",
       " 6739,\n",
       " 6747,\n",
       " 6766,\n",
       " 6769,\n",
       " 6774,\n",
       " 6792,\n",
       " 6815,\n",
       " 6817,\n",
       " 6821,\n",
       " 6825,\n",
       " 6838,\n",
       " 6839,\n",
       " 6848,\n",
       " 6856,\n",
       " 6874,\n",
       " 6884,\n",
       " 6891,\n",
       " 6894,\n",
       " 6896,\n",
       " 6901,\n",
       " 6908,\n",
       " 6910,\n",
       " 6930,\n",
       " 6935,\n",
       " 6992,\n",
       " 6998,\n",
       " 7015,\n",
       " 7020,\n",
       " 7038,\n",
       " 7040,\n",
       " 7064,\n",
       " 7066,\n",
       " 7073,\n",
       " 7076,\n",
       " 7082,\n",
       " 7084,\n",
       " 7101,\n",
       " 7133,\n",
       " 7136,\n",
       " 7151,\n",
       " 7165,\n",
       " 7166,\n",
       " 7178,\n",
       " 7180,\n",
       " 7191,\n",
       " 7198,\n",
       " 7205,\n",
       " 7224,\n",
       " 7225,\n",
       " 7257,\n",
       " 7267,\n",
       " 7291,\n",
       " 7292,\n",
       " 7334,\n",
       " 7351,\n",
       " 7355,\n",
       " 7359,\n",
       " 7382,\n",
       " 7385,\n",
       " 7386,\n",
       " 7389,\n",
       " 7400,\n",
       " 7401,\n",
       " 7414,\n",
       " 7416,\n",
       " 7418,\n",
       " 7423,\n",
       " 7430,\n",
       " 7431,\n",
       " 7434,\n",
       " 7444,\n",
       " 7450,\n",
       " 7451,\n",
       " 7455,\n",
       " 7458,\n",
       " 7478,\n",
       " 7493,\n",
       " 7495,\n",
       " 7499,\n",
       " 7526,\n",
       " 7531,\n",
       " 7540,\n",
       " 7548,\n",
       " 7568,\n",
       " 7578,\n",
       " 7602,\n",
       " 7620,\n",
       " 7627,\n",
       " 7643,\n",
       " 7656,\n",
       " 7661,\n",
       " 7663,\n",
       " 7669,\n",
       " 7670,\n",
       " 7672,\n",
       " 7674,\n",
       " 7679,\n",
       " 7682,\n",
       " 7688,\n",
       " 7722,\n",
       " 7780,\n",
       " 7791,\n",
       " 7803,\n",
       " 7808,\n",
       " 7810,\n",
       " 7828,\n",
       " 7862,\n",
       " 7863,\n",
       " 7865,\n",
       " 7906,\n",
       " 7907,\n",
       " 7922,\n",
       " 7932,\n",
       " 7954,\n",
       " 7961,\n",
       " 7970,\n",
       " 7984,\n",
       " 7995,\n",
       " 8016,\n",
       " 8022,\n",
       " 8028,\n",
       " 8045,\n",
       " 8056,\n",
       " 8060,\n",
       " 8078,\n",
       " 8079,\n",
       " 8107,\n",
       " 8113,\n",
       " 8125,\n",
       " 8135,\n",
       " 8145,\n",
       " 8170,\n",
       " 8175,\n",
       " 8193,\n",
       " 8201,\n",
       " 8204,\n",
       " 8206,\n",
       " 8207,\n",
       " 8216,\n",
       " 8217,\n",
       " 8246,\n",
       " 8253,\n",
       " 8260,\n",
       " 8262,\n",
       " 8263,\n",
       " 8268,\n",
       " 8276,\n",
       " 8281,\n",
       " 8285,\n",
       " 8301,\n",
       " 8304,\n",
       " 8313,\n",
       " 8318,\n",
       " 8320,\n",
       " 8321,\n",
       " 8322,\n",
       " 8334,\n",
       " 8336,\n",
       " 8341,\n",
       " 8350,\n",
       " 8351,\n",
       " 8355,\n",
       " 8358,\n",
       " 8369,\n",
       " 8378,\n",
       " 8396,\n",
       " 8398,\n",
       " 8401,\n",
       " 8405,\n",
       " 8419,\n",
       " 8438,\n",
       " 8449,\n",
       " 8455,\n",
       " 8463,\n",
       " 8475,\n",
       " 8495,\n",
       " 8500,\n",
       " 8514,\n",
       " 8522,\n",
       " 8526,\n",
       " 8529,\n",
       " 8530,\n",
       " 8549,\n",
       " 8575,\n",
       " 8607,\n",
       " 8610,\n",
       " 8612,\n",
       " 8618,\n",
       " 8629,\n",
       " 8642,\n",
       " 8646,\n",
       " 8657,\n",
       " 8665,\n",
       " 8678,\n",
       " 8681,\n",
       " 8682,\n",
       " 8695,\n",
       " 8699,\n",
       " 8702,\n",
       " 8706,\n",
       " 8737,\n",
       " 8741,\n",
       " 8760,\n",
       " 8761,\n",
       " 8763,\n",
       " 8767,\n",
       " 8768,\n",
       " 8797,\n",
       " 8808,\n",
       " 8812,\n",
       " 8844,\n",
       " 8858,\n",
       " 8864,\n",
       " 8869,\n",
       " 8872,\n",
       " 8889,\n",
       " 8899,\n",
       " 8909,\n",
       " 8913,\n",
       " 8927,\n",
       " 8933,\n",
       " 8942,\n",
       " 8951,\n",
       " 8957,\n",
       " 9023,\n",
       " 9026,\n",
       " 9033,\n",
       " 9036,\n",
       " 9052,\n",
       " 9056,\n",
       " 9066,\n",
       " 9071,\n",
       " 9078,\n",
       " 9085,\n",
       " 9086,\n",
       " 9102,\n",
       " 9118,\n",
       " 9134,\n",
       " 9173,\n",
       " 9178,\n",
       " 9180,\n",
       " 9189,\n",
       " 9201,\n",
       " 9208,\n",
       " 9231,\n",
       " 9260,\n",
       " 9286,\n",
       " 9289,\n",
       " 9310,\n",
       " 9320,\n",
       " 9338,\n",
       " 9343,\n",
       " 9346,\n",
       " 9348,\n",
       " 9373,\n",
       " 9378,\n",
       " 9379,\n",
       " 9380,\n",
       " 9416,\n",
       " 9422,\n",
       " 9423,\n",
       " 9445,\n",
       " 9454,\n",
       " 9458,\n",
       " 9478,\n",
       " 9483,\n",
       " 9499,\n",
       " 9523,\n",
       " 9532,\n",
       " 9549]"
      ]
     },
     "execution_count": 10,
     "metadata": {},
     "output_type": "execute_result"
    }
   ],
   "source": [
    "from tqdm import tqdm\n",
    "def get_valid_user_list(df):\n",
    "    valid_user_list = []\n",
    "    for id in tqdm(df['user_id:token'].unique().tolist()):\n",
    "        if len(df_inter[df_inter['user_id:token'] == id]) >=5:\n",
    "            valid_user_list.append(id)\n",
    "        if len(valid_user_list) == 1000:\n",
    "            break\n",
    "    return valid_user_list\n",
    "valid_user_list = get_valid_user_list(df_inter)\n",
    "valid_user_list"
   ]
  },
  {
   "cell_type": "code",
   "execution_count": 11,
   "metadata": {
    "pycharm": {
     "name": "#%%\n"
    }
   },
   "outputs": [
    {
     "name": "stdout",
     "output_type": "stream",
     "text": [
      "Game information: 29.99\n",
      "Recommendation reason: As a fan of RPGs, you'll enjoy Fallout 4's immersive storyline and character customization. With its vast open world and engaging combat, this game offers endless hours of entertainment.\n"
     ]
    }
   ],
   "source": [
    "instruction, response = evaluate(get_instruction(str(9483)))\n",
    "print(response)"
   ]
  },
  {
   "cell_type": "code",
   "execution_count": 21,
   "metadata": {
    "pycharm": {
     "name": "#%%\n"
    }
   },
   "outputs": [
    {
     "data": {
      "text/plain": [
       "'29.99'"
      ]
     },
     "execution_count": 21,
     "metadata": {},
     "output_type": "execute_result"
    }
   ],
   "source": [
    "response.split('Recommendation reason:')[0].split('Game information:')[-1].strip(' \\n')"
   ]
  },
  {
   "cell_type": "code",
   "execution_count": null,
   "metadata": {
    "pycharm": {
     "name": "#%%\n"
    }
   },
   "outputs": [],
   "source": []
  },
  {
   "cell_type": "code",
   "execution_count": 12,
   "metadata": {
    "pycharm": {
     "name": "#%%\n"
    }
   },
   "outputs": [
    {
     "name": "stderr",
     "output_type": "stream",
     "text": [
      "  0%|          | 0/100 [00:00<?, ?it/s]"
     ]
    },
    {
     "name": "stdout",
     "output_type": "stream",
     "text": [
      "19.99\n",
      "19.99\n"
     ]
    },
    {
     "name": "stderr",
     "output_type": "stream",
     "text": [
      "  1%|          | 1/100 [00:04<06:44,  4.08s/it, price_acc=1]"
     ]
    },
    {
     "name": "stdout",
     "output_type": "stream",
     "text": [
      "19.99\n",
      "19.99\n"
     ]
    },
    {
     "name": "stderr",
     "output_type": "stream",
     "text": [
      "  2%|▏         | 2/100 [00:06<04:54,  3.01s/it, price_acc=1]"
     ]
    },
    {
     "name": "stdout",
     "output_type": "stream",
     "text": [
      "0\n",
      "Free to Play\n"
     ]
    },
    {
     "name": "stderr",
     "output_type": "stream",
     "text": [
      "  3%|▎         | 3/100 [00:08<04:06,  2.54s/it, price_acc=0.667]"
     ]
    },
    {
     "name": "stdout",
     "output_type": "stream",
     "text": [
      "0\n",
      "Free to Play\n"
     ]
    },
    {
     "name": "stderr",
     "output_type": "stream",
     "text": [
      "  4%|▍         | 4/100 [00:10<03:50,  2.40s/it, price_acc=0.5]  "
     ]
    },
    {
     "name": "stdout",
     "output_type": "stream",
     "text": [
      "39.99\n",
      "39.99\n"
     ]
    },
    {
     "name": "stderr",
     "output_type": "stream",
     "text": [
      "  6%|▌         | 6/100 [00:14<03:18,  2.11s/it, price_acc=0.6]"
     ]
    },
    {
     "name": "stdout",
     "output_type": "stream",
     "text": [
      "19.99\n",
      "19.99\n"
     ]
    },
    {
     "name": "stderr",
     "output_type": "stream",
     "text": [
      "  7%|▋         | 7/100 [00:17<03:40,  2.37s/it, price_acc=0.571]"
     ]
    },
    {
     "name": "stdout",
     "output_type": "stream",
     "text": [
      "19.99\n",
      "19.99\n"
     ]
    },
    {
     "name": "stderr",
     "output_type": "stream",
     "text": [
      "  8%|▊         | 8/100 [00:20<04:05,  2.67s/it, price_acc=0.625]"
     ]
    },
    {
     "name": "stdout",
     "output_type": "stream",
     "text": [
      "1\n",
      "recommendation reason: Team Fortress 2 is a popular action game with free-to-play model, offering a variety of game modes and a large player base. With its fast-paced gameplay and engaging multiplayer experience, it's a great option for players looking for an action-packed game with a strong community.\n",
      "Free to Play\n"
     ]
    },
    {
     "name": "stderr",
     "output_type": "stream",
     "text": [
      "  9%|▉         | 9/100 [00:23<03:54,  2.57s/it, price_acc=0.556]"
     ]
    },
    {
     "name": "stdout",
     "output_type": "stream",
     "text": [
      "19.99\n",
      "19.99\n"
     ]
    },
    {
     "name": "stderr",
     "output_type": "stream",
     "text": [
      " 10%|█         | 10/100 [00:25<03:41,  2.47s/it, price_acc=0.6] "
     ]
    },
    {
     "name": "stdout",
     "output_type": "stream",
     "text": [
      "1\n",
      "recommendation reason: Team Fortress 2 is a free-to-play action game with a rich history of player-versus-player gameplay, offering a unique and engaging experience for players of all skill levels.\n",
      "Free to Play\n"
     ]
    },
    {
     "name": "stderr",
     "output_type": "stream",
     "text": [
      " 11%|█         | 11/100 [00:26<03:17,  2.22s/it, price_acc=0.545]"
     ]
    },
    {
     "name": "stdout",
     "output_type": "stream",
     "text": [
      "0\n",
      "Free to Play\n"
     ]
    },
    {
     "name": "stderr",
     "output_type": "stream",
     "text": [
      " 12%|█▏        | 12/100 [00:29<03:17,  2.25s/it, price_acc=0.5]  "
     ]
    },
    {
     "name": "stdout",
     "output_type": "stream",
     "text": [
      "0\n",
      "Free to Play\n"
     ]
    },
    {
     "name": "stderr",
     "output_type": "stream",
     "text": [
      " 13%|█▎        | 13/100 [00:32<03:44,  2.58s/it, price_acc=0.462]"
     ]
    },
    {
     "name": "stdout",
     "output_type": "stream",
     "text": [
      "2\n",
      "recommendation reason: With the tags of [Action, Free to Play], this game offers a fun and engaging experience with no cost to the customer, making it an excellent choice for those looking for a thrilling game to play.\n",
      "Free to Play\n"
     ]
    },
    {
     "name": "stderr",
     "output_type": "stream",
     "text": [
      " 14%|█▍        | 14/100 [00:34<03:17,  2.30s/it, price_acc=0.429]"
     ]
    },
    {
     "name": "stdout",
     "output_type": "stream",
     "text": [
      "19.99\n",
      "19.99\n"
     ]
    },
    {
     "name": "stderr",
     "output_type": "stream",
     "text": [
      " 15%|█▌        | 15/100 [00:37<03:39,  2.58s/it, price_acc=0.467]"
     ]
    },
    {
     "name": "stdout",
     "output_type": "stream",
     "text": [
      "1\n",
      "recommendation reason: Team Fortress 2 is a popular action game with a rich history and a large player base, offering a free-to-play experience with endless gameplay possibilities.\n",
      "Free to Play\n"
     ]
    },
    {
     "name": "stderr",
     "output_type": "stream",
     "text": [
      " 16%|█▌        | 16/100 [00:39<03:09,  2.26s/it, price_acc=0.438]"
     ]
    },
    {
     "name": "stdout",
     "output_type": "stream",
     "text": [
      "29.99\n",
      "29.99\n"
     ]
    },
    {
     "name": "stderr",
     "output_type": "stream",
     "text": [
      " 17%|█▋        | 17/100 [00:41<03:10,  2.29s/it, price_acc=0.471]"
     ]
    },
    {
     "name": "stdout",
     "output_type": "stream",
     "text": [
      "39.99\n",
      "39.99\n"
     ]
    },
    {
     "name": "stderr",
     "output_type": "stream",
     "text": [
      " 18%|█▊        | 18/100 [00:43<03:01,  2.22s/it, price_acc=0.5]  "
     ]
    },
    {
     "name": "stdout",
     "output_type": "stream",
     "text": [
      "0\n",
      "Free to Play\n"
     ]
    },
    {
     "name": "stderr",
     "output_type": "stream",
     "text": [
      " 19%|█▉        | 19/100 [00:45<03:08,  2.32s/it, price_acc=0.474]"
     ]
    },
    {
     "name": "stdout",
     "output_type": "stream",
     "text": [
      "0\n",
      "Free to Play\n"
     ]
    },
    {
     "name": "stderr",
     "output_type": "stream",
     "text": [
      " 20%|██        | 20/100 [00:48<03:15,  2.45s/it, price_acc=0.45] "
     ]
    },
    {
     "name": "stdout",
     "output_type": "stream",
     "text": [
      "0\n",
      "Free to Play\n"
     ]
    },
    {
     "name": "stderr",
     "output_type": "stream",
     "text": [
      " 21%|██        | 21/100 [00:51<03:18,  2.52s/it, price_acc=0.429]"
     ]
    },
    {
     "name": "stdout",
     "output_type": "stream",
     "text": [
      "0\n",
      "Free to Play\n"
     ]
    },
    {
     "name": "stderr",
     "output_type": "stream",
     "text": [
      " 22%|██▏       | 22/100 [00:54<03:19,  2.56s/it, price_acc=0.409]"
     ]
    },
    {
     "name": "stdout",
     "output_type": "stream",
     "text": [
      "0\n",
      "Free to Play\n"
     ]
    },
    {
     "name": "stderr",
     "output_type": "stream",
     "text": [
      " 23%|██▎       | 23/100 [00:56<03:22,  2.62s/it, price_acc=0.391]"
     ]
    },
    {
     "name": "stdout",
     "output_type": "stream",
     "text": [
      "0\n",
      "Free to Play\n"
     ]
    },
    {
     "name": "stderr",
     "output_type": "stream",
     "text": [
      " 24%|██▍       | 24/100 [00:58<03:06,  2.46s/it, price_acc=0.375]"
     ]
    },
    {
     "name": "stdout",
     "output_type": "stream",
     "text": [
      "29.99\n",
      "29.99\n"
     ]
    },
    {
     "name": "stderr",
     "output_type": "stream",
     "text": [
      " 25%|██▌       | 25/100 [01:01<03:00,  2.41s/it, price_acc=0.4]  "
     ]
    },
    {
     "name": "stdout",
     "output_type": "stream",
     "text": [
      "1\n",
      "recommendation reason: Team Fortress 2 is a free-to-play action game that offers a unique and engaging gameplay experience with its cartoonish visuals and diverse playable classes. With its rich history and community support, it's a great addition to any gamer's collection.\n",
      "Free to Play\n"
     ]
    },
    {
     "name": "stderr",
     "output_type": "stream",
     "text": [
      " 26%|██▌       | 26/100 [01:03<02:52,  2.33s/it, price_acc=0.385]"
     ]
    },
    {
     "name": "stdout",
     "output_type": "stream",
     "text": [
      "2\n",
      "recommendation reason: With a price of Free to Play, Team Fortress 2 offers an exciting Action experience with Indie tags, making it a great addition to your historical play record.\n",
      "Free to Play\n"
     ]
    },
    {
     "name": "stderr",
     "output_type": "stream",
     "text": [
      " 27%|██▋       | 27/100 [01:04<02:32,  2.09s/it, price_acc=0.37] "
     ]
    },
    {
     "name": "stdout",
     "output_type": "stream",
     "text": [
      "0\n",
      "Free to Play\n"
     ]
    },
    {
     "name": "stderr",
     "output_type": "stream",
     "text": [
      " 28%|██▊       | 28/100 [01:07<02:43,  2.27s/it, price_acc=0.357]"
     ]
    },
    {
     "name": "stdout",
     "output_type": "stream",
     "text": [
      "19.99\n",
      "19.99\n"
     ]
    },
    {
     "name": "stderr",
     "output_type": "stream",
     "text": [
      " 29%|██▉       | 29/100 [01:09<02:37,  2.21s/it, price_acc=0.379]"
     ]
    },
    {
     "name": "stdout",
     "output_type": "stream",
     "text": [
      "0\n",
      "Free to Play\n"
     ]
    },
    {
     "name": "stderr",
     "output_type": "stream",
     "text": [
      " 30%|███       | 30/100 [01:11<02:22,  2.03s/it, price_acc=0.367]"
     ]
    },
    {
     "name": "stdout",
     "output_type": "stream",
     "text": [
      "1\n",
      "recommendation reason: Team Fortress 2 is a popular action game with free-to-play model, offering a unique and engaging gameplay experience with its cartoonish visuals and multiplayer modes. With its fast-paced gameplay and diverse character classes, it's a great option for players looking for an action-packed gaming experience.\n",
      "Free to Play\n"
     ]
    },
    {
     "name": "stderr",
     "output_type": "stream",
     "text": [
      " 31%|███       | 31/100 [01:13<02:30,  2.18s/it, price_acc=0.355]"
     ]
    },
    {
     "name": "stdout",
     "output_type": "stream",
     "text": [
      "29.99\n",
      "29.99\n"
     ]
    },
    {
     "name": "stderr",
     "output_type": "stream",
     "text": [
      " 32%|███▏      | 32/100 [01:16<02:31,  2.23s/it, price_acc=0.375]"
     ]
    },
    {
     "name": "stdout",
     "output_type": "stream",
     "text": [
      "19.99\n",
      "19.99\n"
     ]
    },
    {
     "name": "stderr",
     "output_type": "stream",
     "text": [
      " 33%|███▎      | 33/100 [01:18<02:40,  2.40s/it, price_acc=0.394]"
     ]
    },
    {
     "name": "stdout",
     "output_type": "stream",
     "text": [
      "1\n",
      "recommendation reason: Team Fortress 2 is a free-to-play action game that offers a unique and engaging gameplay experience with its cartoonish visuals and diverse playable classes. With its rich history and community support, it's a great option for players looking for a fun and social gaming experience.\n",
      "Free to Play\n"
     ]
    },
    {
     "name": "stderr",
     "output_type": "stream",
     "text": [
      " 34%|███▍      | 34/100 [01:21<02:35,  2.36s/it, price_acc=0.382]"
     ]
    },
    {
     "name": "stdout",
     "output_type": "stream",
     "text": [
      "29.99\n",
      "29.99\n"
     ]
    },
    {
     "name": "stderr",
     "output_type": "stream",
     "text": [
      " 35%|███▌      | 35/100 [01:23<02:31,  2.32s/it, price_acc=0.4]  "
     ]
    },
    {
     "name": "stdout",
     "output_type": "stream",
     "text": [
      "2\n",
      "recommendation reason: With the tags of Action and Free to Play, Team Fortress 2 offers a fun and exciting gameplay experience without any cost, which aligns with the customer's historical play record of free-to-play games.\n",
      "Free to Play\n"
     ]
    },
    {
     "name": "stderr",
     "output_type": "stream",
     "text": [
      " 36%|███▌      | 36/100 [01:25<02:19,  2.18s/it, price_acc=0.389]"
     ]
    },
    {
     "name": "stdout",
     "output_type": "stream",
     "text": [
      "0\n",
      "Free to Play\n"
     ]
    },
    {
     "name": "stderr",
     "output_type": "stream",
     "text": [
      " 37%|███▋      | 37/100 [01:27<02:10,  2.07s/it, price_acc=0.378]"
     ]
    },
    {
     "name": "stdout",
     "output_type": "stream",
     "text": [
      "19.99\n",
      "19.99\n"
     ]
    },
    {
     "name": "stderr",
     "output_type": "stream",
     "text": [
      " 38%|███▊      | 38/100 [01:30<02:24,  2.33s/it, price_acc=0.395]"
     ]
    },
    {
     "name": "stdout",
     "output_type": "stream",
     "text": [
      "0\n",
      "Free to Play\n"
     ]
    },
    {
     "name": "stderr",
     "output_type": "stream",
     "text": [
      " 39%|███▉      | 39/100 [01:32<02:24,  2.38s/it, price_acc=0.385]"
     ]
    },
    {
     "name": "stdout",
     "output_type": "stream",
     "text": [
      "19.99\n",
      "19.99\n"
     ]
    },
    {
     "name": "stderr",
     "output_type": "stream",
     "text": [
      " 40%|████      | 40/100 [01:35<02:33,  2.57s/it, price_acc=0.4]  "
     ]
    },
    {
     "name": "stdout",
     "output_type": "stream",
     "text": [
      "0\n",
      "Free to Play\n"
     ]
    },
    {
     "name": "stderr",
     "output_type": "stream",
     "text": [
      " 41%|████      | 41/100 [01:37<02:25,  2.47s/it, price_acc=0.39]"
     ]
    },
    {
     "name": "stdout",
     "output_type": "stream",
     "text": [
      "0\n",
      "Free to Play\n"
     ]
    },
    {
     "name": "stderr",
     "output_type": "stream",
     "text": [
      " 42%|████▏     | 42/100 [01:39<02:07,  2.19s/it, price_acc=0.381]"
     ]
    },
    {
     "name": "stdout",
     "output_type": "stream",
     "text": [
      "0\n",
      "Free to Play\n"
     ]
    },
    {
     "name": "stderr",
     "output_type": "stream",
     "text": [
      " 43%|████▎     | 43/100 [01:41<02:03,  2.16s/it, price_acc=0.372]"
     ]
    },
    {
     "name": "stdout",
     "output_type": "stream",
     "text": [
      "0\n",
      "Free to Play\n"
     ]
    },
    {
     "name": "stderr",
     "output_type": "stream",
     "text": [
      " 44%|████▍     | 44/100 [01:42<01:50,  1.97s/it, price_acc=0.364]"
     ]
    },
    {
     "name": "stdout",
     "output_type": "stream",
     "text": [
      "19.99\n",
      "19.99\n"
     ]
    },
    {
     "name": "stderr",
     "output_type": "stream",
     "text": [
      " 45%|████▌     | 45/100 [01:45<01:53,  2.07s/it, price_acc=0.378]"
     ]
    },
    {
     "name": "stdout",
     "output_type": "stream",
     "text": [
      "0\n",
      "recommendation reason: Team Fortress 2 is a popular and well-known game with action-packed gameplay, offering a unique and enjoyable experience. The game is free to play, making it an excellent choice for customers looking for a fun and affordable gaming option.\n",
      "Free to Play\n"
     ]
    },
    {
     "name": "stderr",
     "output_type": "stream",
     "text": [
      " 46%|████▌     | 46/100 [01:47<01:53,  2.10s/it, price_acc=0.37] "
     ]
    },
    {
     "name": "stdout",
     "output_type": "stream",
     "text": [
      "0\n",
      "Free to Play\n"
     ]
    },
    {
     "name": "stderr",
     "output_type": "stream",
     "text": [
      " 47%|████▋     | 47/100 [01:49<01:46,  2.01s/it, price_acc=0.362]"
     ]
    },
    {
     "name": "stdout",
     "output_type": "stream",
     "text": [
      "0\n",
      "Free to Play\n"
     ]
    },
    {
     "name": "stderr",
     "output_type": "stream",
     "text": [
      " 48%|████▊     | 48/100 [01:50<01:31,  1.76s/it, price_acc=0.354]"
     ]
    },
    {
     "name": "stdout",
     "output_type": "stream",
     "text": [
      "0\n",
      "Free to Play\n"
     ]
    },
    {
     "name": "stderr",
     "output_type": "stream",
     "text": [
      " 49%|████▉     | 49/100 [01:51<01:25,  1.67s/it, price_acc=0.347]"
     ]
    },
    {
     "name": "stdout",
     "output_type": "stream",
     "text": [
      "0\n",
      "Free to Play\n"
     ]
    },
    {
     "name": "stderr",
     "output_type": "stream",
     "text": [
      " 50%|█████     | 50/100 [01:54<01:33,  1.87s/it, price_acc=0.34] "
     ]
    },
    {
     "name": "stdout",
     "output_type": "stream",
     "text": [
      "0\n",
      "Free to Play\n"
     ]
    },
    {
     "name": "stderr",
     "output_type": "stream",
     "text": [
      " 51%|█████     | 51/100 [01:56<01:42,  2.08s/it, price_acc=0.333]"
     ]
    },
    {
     "name": "stdout",
     "output_type": "stream",
     "text": [
      "0\n",
      "Free to Play\n"
     ]
    },
    {
     "name": "stderr",
     "output_type": "stream",
     "text": [
      " 52%|█████▏    | 52/100 [01:58<01:28,  1.85s/it, price_acc=0.327]"
     ]
    },
    {
     "name": "stdout",
     "output_type": "stream",
     "text": [
      "0\n",
      "Free to Play\n"
     ]
    },
    {
     "name": "stderr",
     "output_type": "stream",
     "text": [
      " 53%|█████▎    | 53/100 [02:00<01:33,  1.98s/it, price_acc=0.321]"
     ]
    },
    {
     "name": "stdout",
     "output_type": "stream",
     "text": [
      "0\n",
      "Free to Play\n"
     ]
    },
    {
     "name": "stderr",
     "output_type": "stream",
     "text": [
      " 54%|█████▍    | 54/100 [02:02<01:39,  2.17s/it, price_acc=0.315]"
     ]
    },
    {
     "name": "stdout",
     "output_type": "stream",
     "text": [
      "0\n",
      "Free to Play\n"
     ]
    },
    {
     "name": "stderr",
     "output_type": "stream",
     "text": [
      " 55%|█████▌    | 55/100 [02:05<01:41,  2.26s/it, price_acc=0.309]"
     ]
    },
    {
     "name": "stdout",
     "output_type": "stream",
     "text": [
      "1\n",
      "recommendation reason: Team Fortress 2 is a free-to-play action game with a rich history of player-versus-player gameplay, offering a unique and engaging experience with a large player base.\n",
      "Free to Play\n"
     ]
    },
    {
     "name": "stderr",
     "output_type": "stream",
     "text": [
      " 56%|█████▌    | 56/100 [02:06<01:29,  2.04s/it, price_acc=0.304]"
     ]
    },
    {
     "name": "stdout",
     "output_type": "stream",
     "text": [
      "2\n",
      "recommendation reason: Team Fortress 2 is a free-to-play action game that offers a unique and engaging gameplay experience with its cartoonish visuals and diverse playable characters. With its fast-paced gameplay and multiplayer options, it's a great addition to any gamer's collection.\n",
      "Free to Play\n"
     ]
    },
    {
     "name": "stderr",
     "output_type": "stream",
     "text": [
      " 57%|█████▋    | 57/100 [02:09<01:31,  2.13s/it, price_acc=0.298]"
     ]
    },
    {
     "name": "stdout",
     "output_type": "stream",
     "text": [
      "1\n",
      "recommendation reason: With the same developer as Team Fortress, Warframe offers a similar first-person shooter experience with action-packed gameplay and a vast array of customizable weapons and abilities. Plus, it's free to play!\n",
      "Free to Play\n"
     ]
    },
    {
     "name": "stderr",
     "output_type": "stream",
     "text": [
      " 58%|█████▊    | 58/100 [02:11<01:24,  2.02s/it, price_acc=0.293]"
     ]
    },
    {
     "name": "stdout",
     "output_type": "stream",
     "text": [
      "2\n",
      "recommendation reason: With the same tags as Rust, Paladins, and Near Death, Team Fortress 2 offers a similar action-packed experience with a free price tag, making it a great addition to your historical play record.\n",
      "Free to Play\n"
     ]
    },
    {
     "name": "stderr",
     "output_type": "stream",
     "text": [
      " 59%|█████▉    | 59/100 [02:12<01:20,  1.97s/it, price_acc=0.288]"
     ]
    },
    {
     "name": "stdout",
     "output_type": "stream",
     "text": [
      "19.99\n",
      "19.99\n"
     ]
    },
    {
     "name": "stderr",
     "output_type": "stream",
     "text": [
      " 60%|██████    | 60/100 [02:15<01:21,  2.04s/it, price_acc=0.3]  "
     ]
    },
    {
     "name": "stdout",
     "output_type": "stream",
     "text": [
      "2\n",
      "recommendation reason: With the same tags as Unturned, Cubic Castles, and Garry's Mod, Team Fortress 2 offers a similar action-packed and adventurous experience with a free price tag, making it a great option for customers who enjoy indie games with action and adventure elements.\n",
      "Free to Play\n"
     ]
    },
    {
     "name": "stderr",
     "output_type": "stream",
     "text": [
      " 61%|██████    | 61/100 [02:17<01:20,  2.07s/it, price_acc=0.295]"
     ]
    },
    {
     "name": "stdout",
     "output_type": "stream",
     "text": [
      "0\n",
      "Free to Play\n"
     ]
    },
    {
     "name": "stderr",
     "output_type": "stream",
     "text": [
      " 62%|██████▏   | 62/100 [02:19<01:19,  2.08s/it, price_acc=0.29] "
     ]
    },
    {
     "name": "stdout",
     "output_type": "stream",
     "text": [
      "0\n",
      "Free to Play\n"
     ]
    },
    {
     "name": "stderr",
     "output_type": "stream",
     "text": [
      " 63%|██████▎   | 63/100 [02:21<01:12,  1.96s/it, price_acc=0.286]"
     ]
    },
    {
     "name": "stdout",
     "output_type": "stream",
     "text": [
      "0\n",
      "Free to Play\n"
     ]
    },
    {
     "name": "stderr",
     "output_type": "stream",
     "text": [
      " 64%|██████▍   | 64/100 [02:23<01:14,  2.08s/it, price_acc=0.281]"
     ]
    },
    {
     "name": "stdout",
     "output_type": "stream",
     "text": [
      "2\n",
      "recommendation reason: With the same developer as Team Fortress 2, the game offers a similar gameplay experience with action-packed gameplay and a variety of playable characters, making it a great option for fans of the series.\n",
      "Free to Play\n"
     ]
    },
    {
     "name": "stderr",
     "output_type": "stream",
     "text": [
      " 65%|██████▌   | 65/100 [02:25<01:09,  1.99s/it, price_acc=0.277]"
     ]
    },
    {
     "name": "stdout",
     "output_type": "stream",
     "text": [
      "0\n",
      "Free to Play\n"
     ]
    },
    {
     "name": "stderr",
     "output_type": "stream",
     "text": [
      " 66%|██████▌   | 66/100 [02:27<01:07,  1.98s/it, price_acc=0.273]"
     ]
    },
    {
     "name": "stdout",
     "output_type": "stream",
     "text": [
      "0\n",
      "recommendation reason: Team Fortress 2 is a free-to-play action game that offers endless hours of fun and gameplay, with a large player base and regular updates, making it a great addition to your gaming collection.\n",
      "Free to Play\n"
     ]
    },
    {
     "name": "stderr",
     "output_type": "stream",
     "text": [
      " 67%|██████▋   | 67/100 [02:28<01:01,  1.85s/it, price_acc=0.269]"
     ]
    },
    {
     "name": "stdout",
     "output_type": "stream",
     "text": [
      "0\n",
      "Free to Play\n"
     ]
    },
    {
     "name": "stderr",
     "output_type": "stream",
     "text": [
      " 68%|██████▊   | 68/100 [02:30<00:56,  1.75s/it, price_acc=0.265]"
     ]
    },
    {
     "name": "stdout",
     "output_type": "stream",
     "text": [
      "0\n",
      "Free to Play\n"
     ]
    },
    {
     "name": "stderr",
     "output_type": "stream",
     "text": [
      " 69%|██████▉   | 69/100 [02:31<00:53,  1.72s/it, price_acc=0.261]"
     ]
    },
    {
     "name": "stdout",
     "output_type": "stream",
     "text": [
      "0\n",
      "Free to Play\n"
     ]
    },
    {
     "name": "stderr",
     "output_type": "stream",
     "text": [
      " 70%|███████   | 70/100 [02:33<00:51,  1.71s/it, price_acc=0.257]"
     ]
    },
    {
     "name": "stdout",
     "output_type": "stream",
     "text": [
      "0\n",
      "Free to Play\n"
     ]
    },
    {
     "name": "stderr",
     "output_type": "stream",
     "text": [
      " 71%|███████   | 71/100 [02:35<00:51,  1.79s/it, price_acc=0.254]"
     ]
    },
    {
     "name": "stdout",
     "output_type": "stream",
     "text": [
      "39.99\n",
      "39.99\n"
     ]
    },
    {
     "name": "stderr",
     "output_type": "stream",
     "text": [
      " 72%|███████▏  | 72/100 [02:37<00:55,  1.98s/it, price_acc=0.264]"
     ]
    },
    {
     "name": "stdout",
     "output_type": "stream",
     "text": [
      "0\n",
      "Free to Play\n"
     ]
    },
    {
     "name": "stderr",
     "output_type": "stream",
     "text": [
      " 73%|███████▎  | 73/100 [02:40<00:55,  2.04s/it, price_acc=0.26] "
     ]
    },
    {
     "name": "stdout",
     "output_type": "stream",
     "text": [
      "0\n",
      "Free to Play\n"
     ]
    },
    {
     "name": "stderr",
     "output_type": "stream",
     "text": [
      " 74%|███████▍  | 74/100 [02:42<00:55,  2.13s/it, price_acc=0.257]"
     ]
    },
    {
     "name": "stdout",
     "output_type": "stream",
     "text": [
      "0\n",
      "Free to Play\n"
     ]
    },
    {
     "name": "stderr",
     "output_type": "stream",
     "text": [
      " 75%|███████▌  | 75/100 [02:44<00:56,  2.25s/it, price_acc=0.253]"
     ]
    },
    {
     "name": "stdout",
     "output_type": "stream",
     "text": [
      "2\n",
      "recommendation reason: With the same tags as Red Orchestra 2: Heroes of Stalingrad with Rising Storm, Outlast, VVVVVV, and Warframe, Team Fortress 2 offers action-packed gameplay with a free price tag, making it a great alternative for customers looking for similar games.\n",
      "Free to Play\n"
     ]
    },
    {
     "name": "stderr",
     "output_type": "stream",
     "text": [
      " 76%|███████▌  | 76/100 [02:47<00:53,  2.22s/it, price_acc=0.25] "
     ]
    },
    {
     "name": "stdout",
     "output_type": "stream",
     "text": [
      "19.99\n",
      "19.99\n"
     ]
    },
    {
     "name": "stderr",
     "output_type": "stream",
     "text": [
      " 77%|███████▋  | 77/100 [02:49<00:50,  2.22s/it, price_acc=0.26]"
     ]
    },
    {
     "name": "stdout",
     "output_type": "stream",
     "text": [
      "0\n",
      "Free to Play\n"
     ]
    },
    {
     "name": "stderr",
     "output_type": "stream",
     "text": [
      " 78%|███████▊  | 78/100 [02:51<00:48,  2.21s/it, price_acc=0.256]"
     ]
    },
    {
     "name": "stdout",
     "output_type": "stream",
     "text": [
      "0\n",
      "Free to Play\n"
     ]
    },
    {
     "name": "stderr",
     "output_type": "stream",
     "text": [
      " 79%|███████▉  | 79/100 [02:53<00:45,  2.14s/it, price_acc=0.253]"
     ]
    },
    {
     "name": "stdout",
     "output_type": "stream",
     "text": [
      "0\n",
      "Free to Play\n"
     ]
    },
    {
     "name": "stderr",
     "output_type": "stream",
     "text": [
      " 80%|████████  | 80/100 [02:55<00:43,  2.20s/it, price_acc=0.25] "
     ]
    },
    {
     "name": "stdout",
     "output_type": "stream",
     "text": [
      "0\n",
      "Free to Play\n"
     ]
    },
    {
     "name": "stderr",
     "output_type": "stream",
     "text": [
      " 81%|████████  | 81/100 [02:58<00:43,  2.28s/it, price_acc=0.247]"
     ]
    },
    {
     "name": "stdout",
     "output_type": "stream",
     "text": [
      "0\n",
      "Free to Play\n"
     ]
    },
    {
     "name": "stderr",
     "output_type": "stream",
     "text": [
      " 82%|████████▏ | 82/100 [02:59<00:37,  2.08s/it, price_acc=0.244]"
     ]
    },
    {
     "name": "stdout",
     "output_type": "stream",
     "text": [
      "19.99\n",
      "19.99\n"
     ]
    },
    {
     "name": "stderr",
     "output_type": "stream",
     "text": [
      " 83%|████████▎ | 83/100 [03:02<00:37,  2.19s/it, price_acc=0.253]"
     ]
    },
    {
     "name": "stdout",
     "output_type": "stream",
     "text": [
      "19.99\n",
      "19.99\n"
     ]
    },
    {
     "name": "stderr",
     "output_type": "stream",
     "text": [
      " 84%|████████▍ | 84/100 [03:05<00:40,  2.50s/it, price_acc=0.262]"
     ]
    },
    {
     "name": "stdout",
     "output_type": "stream",
     "text": [
      "0\n",
      "Free to Play\n"
     ]
    },
    {
     "name": "stderr",
     "output_type": "stream",
     "text": [
      " 85%|████████▌ | 85/100 [03:07<00:33,  2.22s/it, price_acc=0.259]"
     ]
    },
    {
     "name": "stdout",
     "output_type": "stream",
     "text": [
      "19.99\n",
      "19.99\n"
     ]
    },
    {
     "name": "stderr",
     "output_type": "stream",
     "text": [
      " 86%|████████▌ | 86/100 [03:10<00:35,  2.50s/it, price_acc=0.267]"
     ]
    },
    {
     "name": "stdout",
     "output_type": "stream",
     "text": [
      "0\n",
      "Free to Play\n"
     ]
    },
    {
     "name": "stderr",
     "output_type": "stream",
     "text": [
      " 87%|████████▋ | 87/100 [03:12<00:31,  2.42s/it, price_acc=0.264]"
     ]
    },
    {
     "name": "stdout",
     "output_type": "stream",
     "text": [
      "19.99\n",
      "19.99\n"
     ]
    },
    {
     "name": "stderr",
     "output_type": "stream",
     "text": [
      " 88%|████████▊ | 88/100 [03:15<00:30,  2.54s/it, price_acc=0.273]"
     ]
    },
    {
     "name": "stdout",
     "output_type": "stream",
     "text": [
      "19.99\n",
      "19.99\n"
     ]
    },
    {
     "name": "stderr",
     "output_type": "stream",
     "text": [
      " 89%|████████▉ | 89/100 [03:18<00:29,  2.69s/it, price_acc=0.281]"
     ]
    },
    {
     "name": "stdout",
     "output_type": "stream",
     "text": [
      "2\n",
      "recommendation reason: With the tags of Action, Free to Play, this game offers a thrilling and action-packed experience that is free to play, making it an excellent choice for customers who enjoy fast-paced games without any financial commitment.\n",
      "Free to Play\n"
     ]
    },
    {
     "name": "stderr",
     "output_type": "stream",
     "text": [
      " 90%|█████████ | 90/100 [03:20<00:24,  2.44s/it, price_acc=0.278]"
     ]
    },
    {
     "name": "stdout",
     "output_type": "stream",
     "text": [
      "1\n",
      "recommendation reason: Team Fortress 2 is a popular action game with a rich history and a large player base, offering a free-to-play experience with endless gameplay possibilities.\n",
      "Free to Play\n"
     ]
    },
    {
     "name": "stderr",
     "output_type": "stream",
     "text": [
      " 91%|█████████ | 91/100 [03:21<00:19,  2.16s/it, price_acc=0.275]"
     ]
    },
    {
     "name": "stdout",
     "output_type": "stream",
     "text": [
      "0\n",
      "Free to Play\n"
     ]
    },
    {
     "name": "stderr",
     "output_type": "stream",
     "text": [
      " 92%|█████████▏| 92/100 [03:23<00:15,  1.97s/it, price_acc=0.272]"
     ]
    },
    {
     "name": "stdout",
     "output_type": "stream",
     "text": [
      "0\n",
      "Free to Play\n"
     ]
    },
    {
     "name": "stderr",
     "output_type": "stream",
     "text": [
      " 93%|█████████▎| 93/100 [03:25<00:13,  2.00s/it, price_acc=0.269]"
     ]
    },
    {
     "name": "stdout",
     "output_type": "stream",
     "text": [
      "19.99\n",
      "19.99\n"
     ]
    },
    {
     "name": "stderr",
     "output_type": "stream",
     "text": [
      " 94%|█████████▍| 94/100 [03:27<00:12,  2.12s/it, price_acc=0.277]"
     ]
    },
    {
     "name": "stdout",
     "output_type": "stream",
     "text": [
      "19.99\n",
      "19.99\n"
     ]
    },
    {
     "name": "stderr",
     "output_type": "stream",
     "text": [
      " 95%|█████████▌| 95/100 [03:30<00:11,  2.31s/it, price_acc=0.284]"
     ]
    }
   ],
   "source": [
    "from tqdm import tqdm\n",
    "import random\n",
    "import warnings\n",
    "warnings.filterwarnings(\"ignore\")\n",
    "\n",
    "random.shuffle(valid_user_list)\n",
    "\n",
    "result_save_path = f'./results/LLaMA2/{dataset_name}/'\n",
    "if not os.path.exists(result_save_path):\n",
    "    os.makedirs(result_save_path)\n",
    "\n",
    "count = 0\n",
    "\n",
    "pbar = tqdm(valid_user_list[:100])\n",
    "len = 0\n",
    "for id in pbar:\n",
    "    len += 1\n",
    "    df_inter_user = df_inter[df_inter['user_id:token'] == int(id)]\n",
    "    his_id_list = df_inter_user['product_id:token'].tolist()[-10:]\n",
    "    uid_series = dataset.token2id(dataset.uid_field, [str(id)])\n",
    "    topk_score, topk_iid_list = full_sort_topk(uid_series, rec_model, test_data, k=1, device=config['device'])\n",
    "    rec_list = dataset.id2token(dataset.iid_field, topk_iid_list.cpu()) \n",
    "    # next_item_info\n",
    "    next_item = df_item[df_item[\"id:token\"] == int(rec_list)]\n",
    "    next_item_title = next_item[\"app_name:token\"].values[0]\n",
    "    next_item_tag = next_item[\"genres:token_seq\"].values[0]\n",
    "    next_item_price = next_item[\"price:float\"].values[0]\n",
    "    if next_item_price == 'Free to Play':\n",
    "        next_item_price = 0\n",
    "\n",
    "    try:\n",
    "        instruction, response = evaluate(get_instruction_steam(str(id)))\n",
    "        price = response.split('Recommendation reason:')[0].split('Game information:')[-1].strip(' \\n')\n",
    "        print(price)\n",
    "        print(next_item_price)\n",
    "        if price == next_item_price:\n",
    "            count += 1\n",
    "        pbar.set_postfix({'price_acc': count / len})\n",
    "    except:\n",
    "        continue"
   ]
  },
  {
   "cell_type": "code",
   "execution_count": 15,
   "metadata": {
    "pycharm": {
     "name": "#%%\n"
    }
   },
   "outputs": [
    {
     "name": "stdout",
     "output_type": "stream",
     "text": [
      "--------------------Instruction--------------------\n",
      "The history films watched by the customer are:\n",
      "1: To Gillian on Her 37th Birthday\n",
      "The class of the movie is Drama Romance.\n",
      "2: Eddie\n",
      "The class of the movie is Comedy.\n",
      "3: 101 Dalmatians\n",
      "The class of the movie is Children's Comedy.\n",
      "4: Broken Arrow\n",
      "The class of the movie is Action Thriller.\n",
      "5: Michael\n",
      "The class of the movie is Comedy Romance.\n",
      "6: Happy Gilmore\n",
      "The class of the movie is Comedy.\n",
      "7: Escape from L.A.\n",
      "The class of the movie is Action Adventure Sci-Fi Thriller.\n",
      "8: Grumpier Old Men\n",
      "The class of the movie is Comedy Romance.\n",
      "9: Dragonheart\n",
      "The class of the movie is Action Adventure Fantasy.\n",
      "10: Fan, The\n",
      "The class of the movie is Thriller.\n",
      "\n",
      "The age of the customer is 15, the gender is male and the customer's occupation is student. As a recommender system in the movie domain, based on the customer's historical viewing records, historical viewing movie information and user information, tell the customer why he or she needs to watch this movie, and what are the advantages of this movie.\n",
      "Give reasons why the customer needs to watch this movie with the following title and class:\n",
      "Contact.\n",
      "The class of the movie is Drama Sci-Fi.\n",
      "\n",
      "Use ONLY the information mentioned above, especially the history record. You're responding to the CUSTOMER. Directly tell the customer the reason. Respond in SHORT and CONCISE language. Your response should be WITHIN 75 words.\n",
      "\n",
      "\n",
      "--------------------Explanation 1--------------------\n",
      "Based on your viewing history, I recommend \"Contact\" because it's a thought-provoking drama sci-fi movie that explores themes of human connection and the unknown. As a student, you may find the intellectual and emotional depth of the film engaging and enjoyable. Additionally, the movie's unique blend of drama and sci-fi elements will provide a fresh and exciting viewing experience.\n",
      "--------------------Explanation 2--------------------\n",
      "Dear Customer, you need to watch the movie \"Contact\" because it falls under the category of Drama Sci-Fi. Based on your viewing history, you have watched a variety of genres, including drama and sci-fi. \"Contact\" offers a unique blend of these genres, providing you with an engaging and thought-provoking experience. Additionally, the movie explores the themes of human connection and the possibilities of extraterrestrial life, which align with your interests in romance and adventure. Enjoy the film!\n",
      "-----------------------------------------------------\n",
      "\n"
     ]
    }
   ],
   "source": [
    "data = {\"instruction\": \"--------------------Instruction--------------------\\nThe history films watched by the customer are:\\n1: To Gillian on Her 37th Birthday\\nThe class of the movie is Drama Romance.\\n2: Eddie\\nThe class of the movie is Comedy.\\n3: 101 Dalmatians\\nThe class of the movie is Children's Comedy.\\n4: Broken Arrow\\nThe class of the movie is Action Thriller.\\n5: Michael\\nThe class of the movie is Comedy Romance.\\n6: Happy Gilmore\\nThe class of the movie is Comedy.\\n7: Escape from L.A.\\nThe class of the movie is Action Adventure Sci-Fi Thriller.\\n8: Grumpier Old Men\\nThe class of the movie is Comedy Romance.\\n9: Dragonheart\\nThe class of the movie is Action Adventure Fantasy.\\n10: Fan, The\\nThe class of the movie is Thriller.\\n\\nThe age of the customer is 15, the gender is male and the customer's occupation is student. As a recommender system in the movie domain, based on the customer's historical viewing records, historical viewing movie information and user information, tell the customer why he or she needs to watch this movie, and what are the advantages of this movie.\\nGive reasons why the customer needs to watch this movie with the following title and class:\\nContact.\\nThe class of the movie is Drama Sci-Fi.\\n\\nUse ONLY the information mentioned above, especially the history record. You're responding to the CUSTOMER. Directly tell the customer the reason. Respond in SHORT and CONCISE language. Your response should be WITHIN 75 words.\\n\\n\\n--------------------Explanation 1--------------------\\nBased on your viewing history, I recommend \\\"Contact\\\" because it's a thought-provoking drama sci-fi movie that explores themes of human connection and the unknown. As a student, you may find the intellectual and emotional depth of the film engaging and enjoyable. Additionally, the movie's unique blend of drama and sci-fi elements will provide a fresh and exciting viewing experience.\\n--------------------Explanation 2--------------------\\nDear Customer, you need to watch the movie \\\"Contact\\\" because it falls under the category of Drama Sci-Fi. Based on your viewing history, you have watched a variety of genres, including drama and sci-fi. \\\"Contact\\\" offers a unique blend of these genres, providing you with an engaging and thought-provoking experience. Additionally, the movie explores the themes of human connection and the possibilities of extraterrestrial life, which align with your interests in romance and adventure. Enjoy the film!\\n-----------------------------------------------------\\n\", \"input\": \"\", \"output\": \"1\"}\n",
    "print(data['instruction'])"
   ]
  },
  {
   "cell_type": "code",
   "execution_count": null,
   "metadata": {
    "pycharm": {
     "name": "#%%\n"
    }
   },
   "outputs": [],
   "source": []
  }
 ],
 "metadata": {
  "kernelspec": {
   "display_name": "base",
   "language": "python",
   "name": "python3"
  },
  "language_info": {
   "codemirror_mode": {
    "name": "ipython",
    "version": 3
   },
   "file_extension": ".py",
   "mimetype": "text/x-python",
   "name": "python",
   "nbconvert_exporter": "python",
   "pygments_lexer": "ipython3",
   "version": "3.9.12"
  },
  "orig_nbformat": 4
 },
 "nbformat": 4,
 "nbformat_minor": 2
}