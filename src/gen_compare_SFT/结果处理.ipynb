{
 "cells": [
  {
   "cell_type": "code",
   "execution_count": 1,
   "metadata": {
    "pycharm": {
     "name": "#%%\n"
    }
   },
   "outputs": [],
   "source": [
    "import pandas as pd"
   ]
  },
  {
   "cell_type": "code",
   "execution_count": 9,
   "metadata": {
    "pycharm": {
     "name": "#%%\n"
    }
   },
   "outputs": [
    {
     "name": "stdout",
     "output_type": "stream",
     "text": [
      "     index  golden_output  model_output\n",
      "0        1              1             1\n",
      "1        2              1             1\n",
      "2        3              1             1\n",
      "3        4              1             1\n",
      "4        5              1             1\n",
      "..     ...            ...           ...\n",
      "355    356              2             2\n",
      "356    357              2             2\n",
      "357    358              2             2\n",
      "358    359              2             2\n",
      "359    360              2             2\n",
      "\n",
      "[360 rows x 3 columns]\n"
     ]
    }
   ],
   "source": [
    "data_path = './results/test.csv'\n",
    "df = pd.read_csv(data_path)\n",
    "print(df)\n",
    "df_ml = df.loc[: 120]\n",
    "df_mind = df.loc[120: 240]\n",
    "df_steam = df.loc[240: 360]"
   ]
  },
  {
   "cell_type": "code",
   "execution_count": 10,
   "metadata": {
    "pycharm": {
     "name": "#%%\n"
    }
   },
   "outputs": [
    {
     "data": {
      "text/plain": "     index  golden_output  model_output\n0        1              1             1\n1        2              1             1\n2        3              1             1\n3        4              1             1\n4        5              1             1\n..     ...            ...           ...\n355    356              2             2\n356    357              2             2\n357    358              2             2\n358    359              2             2\n359    360              2             2\n\n[321 rows x 3 columns]",
      "text/html": "<div>\n<style scoped>\n    .dataframe tbody tr th:only-of-type {\n        vertical-align: middle;\n    }\n\n    .dataframe tbody tr th {\n        vertical-align: top;\n    }\n\n    .dataframe thead th {\n        text-align: right;\n    }\n</style>\n<table border=\"1\" class=\"dataframe\">\n  <thead>\n    <tr style=\"text-align: right;\">\n      <th></th>\n      <th>index</th>\n      <th>golden_output</th>\n      <th>model_output</th>\n    </tr>\n  </thead>\n  <tbody>\n    <tr>\n      <th>0</th>\n      <td>1</td>\n      <td>1</td>\n      <td>1</td>\n    </tr>\n    <tr>\n      <th>1</th>\n      <td>2</td>\n      <td>1</td>\n      <td>1</td>\n    </tr>\n    <tr>\n      <th>2</th>\n      <td>3</td>\n      <td>1</td>\n      <td>1</td>\n    </tr>\n    <tr>\n      <th>3</th>\n      <td>4</td>\n      <td>1</td>\n      <td>1</td>\n    </tr>\n    <tr>\n      <th>4</th>\n      <td>5</td>\n      <td>1</td>\n      <td>1</td>\n    </tr>\n    <tr>\n      <th>...</th>\n      <td>...</td>\n      <td>...</td>\n      <td>...</td>\n    </tr>\n    <tr>\n      <th>355</th>\n      <td>356</td>\n      <td>2</td>\n      <td>2</td>\n    </tr>\n    <tr>\n      <th>356</th>\n      <td>357</td>\n      <td>2</td>\n      <td>2</td>\n    </tr>\n    <tr>\n      <th>357</th>\n      <td>358</td>\n      <td>2</td>\n      <td>2</td>\n    </tr>\n    <tr>\n      <th>358</th>\n      <td>359</td>\n      <td>2</td>\n      <td>2</td>\n    </tr>\n    <tr>\n      <th>359</th>\n      <td>360</td>\n      <td>2</td>\n      <td>2</td>\n    </tr>\n  </tbody>\n</table>\n<p>321 rows × 3 columns</p>\n</div>"
     },
     "execution_count": 10,
     "metadata": {},
     "output_type": "execute_result"
    }
   ],
   "source": [
    "df[df['golden_output'] == df['model_output']]"
   ]
  },
  {
   "cell_type": "code",
   "execution_count": 11,
   "metadata": {
    "pycharm": {
     "name": "#%%\n"
    }
   },
   "outputs": [
    {
     "name": "stdout",
     "output_type": "stream",
     "text": [
      "ml 0.9338842975206612\n",
      "mind 0.8429752066115702\n",
      "steam 0.9\n"
     ]
    }
   ],
   "source": [
    "accuracy = df[df['golden_output'] == df['model_output']].shape[0] / df.shape[0]\n",
    "for dataset in ['ml', 'mind', 'steam']:\n",
    "    df = eval('df_' + dataset)\n",
    "    accuracy = df[df['golden_output'] == df['model_output']].shape[0] / df.shape[0]\n",
    "    print(dataset, accuracy)"
   ]
  },
  {
   "cell_type": "code",
   "execution_count": 7,
   "metadata": {
    "pycharm": {
     "name": "#%%\n"
    }
   },
   "outputs": [
    {
     "data": {
      "text/html": [
       "<div>\n",
       "<style scoped>\n",
       "    .dataframe tbody tr th:only-of-type {\n",
       "        vertical-align: middle;\n",
       "    }\n",
       "\n",
       "    .dataframe tbody tr th {\n",
       "        vertical-align: top;\n",
       "    }\n",
       "\n",
       "    .dataframe thead th {\n",
       "        text-align: right;\n",
       "    }\n",
       "</style>\n",
       "<table border=\"1\" class=\"dataframe\">\n",
       "  <thead>\n",
       "    <tr style=\"text-align: right;\">\n",
       "      <th></th>\n",
       "      <th>index</th>\n",
       "      <th>dataset</th>\n",
       "      <th>model1</th>\n",
       "      <th>model2</th>\n",
       "    </tr>\n",
       "  </thead>\n",
       "  <tbody>\n",
       "    <tr>\n",
       "      <th>0</th>\n",
       "      <td>1</td>\n",
       "      <td>ml</td>\n",
       "      <td>LLaMA2</td>\n",
       "      <td>ChatGLM2</td>\n",
       "    </tr>\n",
       "    <tr>\n",
       "      <th>1</th>\n",
       "      <td>2</td>\n",
       "      <td>ml</td>\n",
       "      <td>LLaMA2</td>\n",
       "      <td>ChatGLM2</td>\n",
       "    </tr>\n",
       "    <tr>\n",
       "      <th>2</th>\n",
       "      <td>3</td>\n",
       "      <td>ml</td>\n",
       "      <td>LLaMA2</td>\n",
       "      <td>ChatGLM2</td>\n",
       "    </tr>\n",
       "    <tr>\n",
       "      <th>3</th>\n",
       "      <td>4</td>\n",
       "      <td>ml</td>\n",
       "      <td>LLaMA2</td>\n",
       "      <td>ChatGLM2</td>\n",
       "    </tr>\n",
       "    <tr>\n",
       "      <th>4</th>\n",
       "      <td>5</td>\n",
       "      <td>ml</td>\n",
       "      <td>LLaMA2</td>\n",
       "      <td>ChatGLM2</td>\n",
       "    </tr>\n",
       "    <tr>\n",
       "      <th>...</th>\n",
       "      <td>...</td>\n",
       "      <td>...</td>\n",
       "      <td>...</td>\n",
       "      <td>...</td>\n",
       "    </tr>\n",
       "    <tr>\n",
       "      <th>595</th>\n",
       "      <td>596</td>\n",
       "      <td>steam</td>\n",
       "      <td>GPT4</td>\n",
       "      <td>LLaMA2-SFT</td>\n",
       "    </tr>\n",
       "    <tr>\n",
       "      <th>596</th>\n",
       "      <td>597</td>\n",
       "      <td>steam</td>\n",
       "      <td>GPT4</td>\n",
       "      <td>LLaMA2-SFT</td>\n",
       "    </tr>\n",
       "    <tr>\n",
       "      <th>597</th>\n",
       "      <td>598</td>\n",
       "      <td>steam</td>\n",
       "      <td>GPT4</td>\n",
       "      <td>LLaMA2-SFT</td>\n",
       "    </tr>\n",
       "    <tr>\n",
       "      <th>598</th>\n",
       "      <td>599</td>\n",
       "      <td>steam</td>\n",
       "      <td>GPT4</td>\n",
       "      <td>LLaMA2-SFT</td>\n",
       "    </tr>\n",
       "    <tr>\n",
       "      <th>599</th>\n",
       "      <td>600</td>\n",
       "      <td>steam</td>\n",
       "      <td>GPT4</td>\n",
       "      <td>LLaMA2-SFT</td>\n",
       "    </tr>\n",
       "  </tbody>\n",
       "</table>\n",
       "<p>600 rows × 4 columns</p>\n",
       "</div>"
      ],
      "text/plain": [
       "     index dataset  model1      model2\n",
       "0        1      ml  LLaMA2    ChatGLM2\n",
       "1        2      ml  LLaMA2    ChatGLM2\n",
       "2        3      ml  LLaMA2    ChatGLM2\n",
       "3        4      ml  LLaMA2    ChatGLM2\n",
       "4        5      ml  LLaMA2    ChatGLM2\n",
       "..     ...     ...     ...         ...\n",
       "595    596   steam    GPT4  LLaMA2-SFT\n",
       "596    597   steam    GPT4  LLaMA2-SFT\n",
       "597    598   steam    GPT4  LLaMA2-SFT\n",
       "598    599   steam    GPT4  LLaMA2-SFT\n",
       "599    600   steam    GPT4  LLaMA2-SFT\n",
       "\n",
       "[600 rows x 4 columns]"
      ]
     },
     "execution_count": 7,
     "metadata": {},
     "output_type": "execute_result"
    }
   ],
   "source": [
    "df_index = pd.read_csv('./data/compare_test/all/test_sft_index.csv')\n",
    "df_index"
   ]
  },
  {
   "cell_type": "code",
   "execution_count": 9,
   "metadata": {
    "pycharm": {
     "name": "#%%\n"
    }
   },
   "outputs": [
    {
     "data": {
      "text/html": [
       "<div>\n",
       "<style scoped>\n",
       "    .dataframe tbody tr th:only-of-type {\n",
       "        vertical-align: middle;\n",
       "    }\n",
       "\n",
       "    .dataframe tbody tr th {\n",
       "        vertical-align: top;\n",
       "    }\n",
       "\n",
       "    .dataframe thead th {\n",
       "        text-align: right;\n",
       "    }\n",
       "</style>\n",
       "<table border=\"1\" class=\"dataframe\">\n",
       "  <thead>\n",
       "    <tr style=\"text-align: right;\">\n",
       "      <th></th>\n",
       "      <th>index</th>\n",
       "      <th>golden_output</th>\n",
       "      <th>model_output</th>\n",
       "    </tr>\n",
       "  </thead>\n",
       "  <tbody>\n",
       "    <tr>\n",
       "      <th>0</th>\n",
       "      <td>1</td>\n",
       "      <td>NaN</td>\n",
       "      <td>1</td>\n",
       "    </tr>\n",
       "    <tr>\n",
       "      <th>1</th>\n",
       "      <td>2</td>\n",
       "      <td>NaN</td>\n",
       "      <td>1</td>\n",
       "    </tr>\n",
       "    <tr>\n",
       "      <th>2</th>\n",
       "      <td>3</td>\n",
       "      <td>NaN</td>\n",
       "      <td>1</td>\n",
       "    </tr>\n",
       "    <tr>\n",
       "      <th>3</th>\n",
       "      <td>4</td>\n",
       "      <td>NaN</td>\n",
       "      <td>1</td>\n",
       "    </tr>\n",
       "    <tr>\n",
       "      <th>4</th>\n",
       "      <td>5</td>\n",
       "      <td>NaN</td>\n",
       "      <td>1</td>\n",
       "    </tr>\n",
       "    <tr>\n",
       "      <th>...</th>\n",
       "      <td>...</td>\n",
       "      <td>...</td>\n",
       "      <td>...</td>\n",
       "    </tr>\n",
       "    <tr>\n",
       "      <th>595</th>\n",
       "      <td>596</td>\n",
       "      <td>NaN</td>\n",
       "      <td>2</td>\n",
       "    </tr>\n",
       "    <tr>\n",
       "      <th>596</th>\n",
       "      <td>597</td>\n",
       "      <td>NaN</td>\n",
       "      <td>2</td>\n",
       "    </tr>\n",
       "    <tr>\n",
       "      <th>597</th>\n",
       "      <td>598</td>\n",
       "      <td>NaN</td>\n",
       "      <td>2</td>\n",
       "    </tr>\n",
       "    <tr>\n",
       "      <th>598</th>\n",
       "      <td>599</td>\n",
       "      <td>NaN</td>\n",
       "      <td>2</td>\n",
       "    </tr>\n",
       "    <tr>\n",
       "      <th>599</th>\n",
       "      <td>600</td>\n",
       "      <td>NaN</td>\n",
       "      <td>2</td>\n",
       "    </tr>\n",
       "  </tbody>\n",
       "</table>\n",
       "<p>600 rows × 3 columns</p>\n",
       "</div>"
      ],
      "text/plain": [
       "     index  golden_output  model_output\n",
       "0        1            NaN             1\n",
       "1        2            NaN             1\n",
       "2        3            NaN             1\n",
       "3        4            NaN             1\n",
       "4        5            NaN             1\n",
       "..     ...            ...           ...\n",
       "595    596            NaN             2\n",
       "596    597            NaN             2\n",
       "597    598            NaN             2\n",
       "598    599            NaN             2\n",
       "599    600            NaN             2\n",
       "\n",
       "[600 rows x 3 columns]"
      ]
     },
     "execution_count": 9,
     "metadata": {},
     "output_type": "execute_result"
    }
   ],
   "source": [
    "df_test = pd.read_csv('./results/test_sft.csv')\n",
    "df_test"
   ]
  },
  {
   "cell_type": "code",
   "execution_count": 10,
   "metadata": {
    "pycharm": {
     "name": "#%%\n"
    }
   },
   "outputs": [],
   "source": [
    "dic = {}\n",
    "for model in ['LLaMA2', 'ChatGLM2', 'GPT3.5', 'GPT4', 'LLaMA2-SFT']:\n",
    "    dic.update({model: 0})"
   ]
  },
  {
   "cell_type": "code",
   "execution_count": 17,
   "metadata": {
    "pycharm": {
     "name": "#%%\n"
    }
   },
   "outputs": [
    {
     "data": {
      "text/plain": [
       "'LLaMA2'"
      ]
     },
     "execution_count": 17,
     "metadata": {},
     "output_type": "execute_result"
    }
   ],
   "source": [
    "df_index[df_index['index'] == 1]['model1'].values[0]"
   ]
  },
  {
   "cell_type": "code",
   "execution_count": 18,
   "metadata": {
    "pycharm": {
     "name": "#%%\n"
    }
   },
   "outputs": [],
   "source": [
    "for i in range(df_test.shape[0]):\n",
    "    idx = df_test.iloc[i]['index']\n",
    "    model1 = df_index[df_index['index'] == idx]['model1'].values[0]\n",
    "    model2 = df_index[df_index['index'] == idx]['model2'].values[0]\n",
    "    if df_test.iloc[i]['model_output'] == 1:\n",
    "        dic[model1] += 1\n",
    "    else:\n",
    "        dic[model2] += 1"
   ]
  },
  {
   "cell_type": "code",
   "execution_count": 19,
   "metadata": {
    "pycharm": {
     "name": "#%%\n"
    }
   },
   "outputs": [
    {
     "data": {
      "text/plain": [
       "{'LLaMA2': 49, 'ChatGLM2': 13, 'GPT3.5': 118, 'GPT4': 182, 'LLaMA2-SFT': 238}"
      ]
     },
     "execution_count": 19,
     "metadata": {},
     "output_type": "execute_result"
    }
   ],
   "source": [
    "dic"
   ]
  },
  {
   "cell_type": "code",
   "execution_count": null,
   "metadata": {
    "pycharm": {
     "name": "#%%\n"
    }
   },
   "outputs": [],
   "source": []
  }
 ],
 "metadata": {
  "kernelspec": {
   "display_name": "base",
   "language": "python",
   "name": "python3"
  },
  "language_info": {
   "codemirror_mode": {
    "name": "ipython",
    "version": 3
   },
   "file_extension": ".py",
   "mimetype": "text/x-python",
   "name": "python",
   "nbconvert_exporter": "python",
   "pygments_lexer": "ipython3",
   "version": "3.9.12"
  },
  "orig_nbformat": 4
 },
 "nbformat": 4,
 "nbformat_minor": 2
}