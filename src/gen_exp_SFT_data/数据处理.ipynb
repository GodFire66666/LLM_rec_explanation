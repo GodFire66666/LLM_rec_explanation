{
 "cells": [
  {
   "cell_type": "code",
   "execution_count": 1,
   "metadata": {
    "collapsed": true,
    "pycharm": {
     "name": "#%%\n"
    }
   },
   "outputs": [],
   "source": [
    "import pandas as pd\n",
    "import os"
   ]
  },
  {
   "cell_type": "markdown",
   "metadata": {
    "pycharm": {
     "name": "#%% md\n"
    }
   },
   "source": [
    "# 顺序 steam ml mind"
   ]
  },
  {
   "cell_type": "code",
   "execution_count": 2,
   "metadata": {
    "collapsed": false,
    "pycharm": {
     "name": "#%%\n"
    }
   },
   "outputs": [],
   "source": [
    "mind_path = '../生成可解释推荐理由/results/all/mind_small_dev.csv'\n",
    "ml_path = '../生成可解释推荐理由/results/all/ml-100k.csv'\n",
    "steam_path = '../生成可解释推荐理由/results/all/steam.csv'\n",
    "\n",
    "df_mind = pd.read_csv(mind_path)\n",
    "df_ml = pd.read_csv(ml_path)\n",
    "df_steam = pd.read_csv(steam_path)"
   ]
  },
  {
   "cell_type": "code",
   "execution_count": 4,
   "metadata": {
    "pycharm": {
     "name": "#%%\n"
    }
   },
   "outputs": [
    {
     "data": {
      "text/plain": [
       "20"
      ]
     },
     "execution_count": 4,
     "metadata": {},
     "output_type": "execute_result"
    }
   ],
   "source": [
    "test_ratio = 0.2\n",
    "test_size = int(len(df_mind) * test_ratio)\n",
    "test_size"
   ]
  },
  {
   "cell_type": "code",
   "execution_count": 5,
   "metadata": {
    "collapsed": false,
    "pycharm": {
     "name": "#%%\n"
    }
   },
   "outputs": [],
   "source": [
    "df_steam_test = df_steam.iloc[-test_size:]\n",
    "df_ml_test = df_ml.iloc[-test_size:]\n",
    "df_mind_test = df_mind.iloc[-test_size:]"
   ]
  },
  {
   "cell_type": "code",
   "execution_count": null,
   "metadata": {
    "collapsed": false,
    "pycharm": {
     "name": "#%%\n"
    }
   },
   "outputs": [],
   "source": [
    "# sft_path = '../gen_exp_SFT_data/sft_compare/results.txt'\n",
    "# with open(sft_path, 'r') as f:\n",
    "#     data = f.readlines()\n",
    "#     f.close()\n",
    "# data\n",
    "\n",
    "# split_string = '###model output###\\n'\n",
    "# data_sft = []\n",
    "# for idx, line in enumerate(data):\n",
    "#     if line == split_string:\n",
    "#         data_sft.append(data[idx+1])"
   ]
  },
  {
   "cell_type": "code",
   "execution_count": 25,
   "metadata": {
    "collapsed": false,
    "pycharm": {
     "name": "#%%\n"
    }
   },
   "outputs": [],
   "source": [
    "# 300条 steam + ml + mind\n",
    "# (1-80)(101-180)(201-280）训练   (81-100)(181-200)(281-300)测试\n",
    "\n",
    "data_sft_result = pd.read_csv('../gen_exp_SFT_data/sft_compare/only_results.csv')\n",
    "data_sft = data_sft_result['model_output'].tolist()"
   ]
  },
  {
   "cell_type": "code",
   "execution_count": null,
   "metadata": {
    "collapsed": false,
    "pycharm": {
     "name": "#%%\n"
    }
   },
   "outputs": [],
   "source": [
    "df_steam_test['LLaMA2-SFT'] = data_sft[len(df_steam)-test_size: len(df_steam)]\n",
    "df_steam_test.to_csv('../gen_exp_SFT_data/sft_compare/steam_test.csv', index=False,\n",
    "                     columns=['GPT4', 'LLaMA2', 'LLaMA2-SFT'])"
   ]
  },
  {
   "cell_type": "code",
   "execution_count": null,
   "metadata": {
    "collapsed": false,
    "pycharm": {
     "name": "#%%\n"
    }
   },
   "outputs": [],
   "source": [
    "df_ml_test['LLaMA2-SFT'] = data_sft[2*len(df_steam) - test_size: 2*len(df_steam)]\n",
    "df_ml_test.to_csv('../gen_exp_SFT_data/sft_compare/ml-100k_test.csv', index=False,\n",
    "                  columns=['GPT4', 'LLaMA2', 'LLaMA2-SFT'])"
   ]
  },
  {
   "cell_type": "code",
   "execution_count": null,
   "metadata": {
    "collapsed": false,
    "pycharm": {
     "name": "#%%\n"
    }
   },
   "outputs": [],
   "source": [
    "df_mind_test['LLaMA2-SFT'] = data_sft[3*len(df_steam) - test_size: ]\n",
    "df_mind_test.to_csv('../gen_exp_SFT_data/sft_compare/mind_small_dev_test.csv', index=False,\n",
    "                    columns=['GPT4', 'LLaMA2', 'LLaMA2-SFT'])"
   ]
  },
  {
   "cell_type": "code",
   "execution_count": 32,
   "metadata": {
    "collapsed": false,
    "pycharm": {
     "name": "#%%\n"
    }
   },
   "outputs": [],
   "source": [
    "df_steam_all = pd.read_csv('../生成可解释推荐理由/results/all/steam.csv')\n",
    "df_mind_all = pd.read_csv('../生成可解释推荐理由/results/all/mind_small_dev.csv')\n",
    "df_ml_all = pd.read_csv('../生成可解释推荐理由/results/all/ml-100k.csv')\n",
    "\n",
    "df_steam_all['LLaMA2-SFT'] = data_sft[:len(df_steam_all)]\n",
    "df_ml_all['LLaMA2-SFT'] = data_sft[len(df_steam_all): 2*len(df_steam_all)]\n",
    "df_mind_all['LLaMA2-SFT'] = data_sft[2*len(df_steam_all):]\n",
    "\n",
    "df_steam_all.to_csv('../生成可解释推荐理由/results/all/sft_all/steam.csv', index=False)\n",
    "df_mind_all.to_csv('../生成可解释推荐理由/results/all/sft_all/mind_small_dev.csv', index=False)\n",
    "df_ml_all.to_csv('../生成可解释推荐理由/results/all/sft_all/ml-100k.csv', index=False)"
   ]
  },
  {
   "cell_type": "code",
   "execution_count": null,
   "metadata": {
    "pycharm": {
     "name": "#%%\n"
    }
   },
   "outputs": [],
   "source": []
  }
 ],
 "metadata": {
  "kernelspec": {
   "display_name": "Python 3",
   "language": "python",
   "name": "python3"
  },
  "language_info": {
   "codemirror_mode": {
    "name": "ipython",
    "version": 3
   },
   "file_extension": ".py",
   "mimetype": "text/x-python",
   "name": "python",
   "nbconvert_exporter": "python",
   "pygments_lexer": "ipython3",
   "version": "3.9.12"
  }
 },
 "nbformat": 4,
 "nbformat_minor": 0
}