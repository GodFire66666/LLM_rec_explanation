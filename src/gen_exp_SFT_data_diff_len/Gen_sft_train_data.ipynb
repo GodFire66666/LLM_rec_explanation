{
 "cells": [
  {
   "cell_type": "code",
   "execution_count": 2,
   "metadata": {
    "collapsed": false,
    "pycharm": {
     "name": "#%%\n"
    }
   },
   "outputs": [],
   "source": [
    "import pandas as pd\n",
    "import os\n",
    "import json\n",
    "data_root = '../gen_exp_5_model/results/all/'\n",
    "rec_model_list = ['BPR-MF', 'Sasrec', 'LightGCN']\n",
    "dataset_list = ['ml-100k', 'mind_small_dev', 'steam']"
   ]
  },
  {
   "cell_type": "code",
   "execution_count": 3,
   "metadata": {
    "pycharm": {
     "name": "#%%\n"
    }
   },
   "outputs": [
    {
     "name": "stdout",
     "output_type": "stream",
     "text": [
      "BPR-MF ml-100k (943, 6)\n",
      "BPR-MF mind_small_dev (1000, 6)\n",
      "BPR-MF steam (1000, 6)\n",
      "Sasrec ml-100k (943, 6)\n",
      "Sasrec mind_small_dev (1000, 6)\n",
      "Sasrec steam (1000, 6)\n",
      "LightGCN ml-100k (943, 6)\n",
      "LightGCN mind_small_dev (1000, 6)\n",
      "LightGCN steam (1000, 6)\n"
     ]
    }
   ],
   "source": [
    "for rec_model in rec_model_list:\n",
    "    for dataset in dataset_list:\n",
    "        data = pd.read_csv(f'{data_root}{rec_model}/{dataset}.csv')\n",
    "        print(rec_model, dataset, data.shape)"
   ]
  },
  {
   "cell_type": "code",
   "execution_count": 4,
   "metadata": {
    "collapsed": false,
    "pycharm": {
     "name": "#%%\n"
    }
   },
   "outputs": [],
   "source": [
    "import random\n",
    "train_choose_start_position = 100\n",
    "\n",
    "for length in [10, 20, 50, 100, 200, 500]:\n",
    "    train_data_list = []\n",
    "    for rec_model in rec_model_list:\n",
    "        length_avg = length // 3\n",
    "        if length // 3 +0.5 < length / 3:\n",
    "            length_avg += 1\n",
    "\n",
    "        len_list = [length_avg, length_avg, length - 2 * length_avg]\n",
    "        random.shuffle(len_list)\n",
    "\n",
    "        for (i, dataset) in enumerate(dataset_list):\n",
    "            data = pd.read_csv(f'{data_root}{rec_model}/{dataset}.csv')\n",
    "            for idx in range(train_choose_start_position, train_choose_start_position + len_list[i]):\n",
    "                dic = {}\n",
    "                dic['instruction'] = data.iloc[idx]['instruction']\n",
    "                dic['input'] = ''\n",
    "                dic['output'] = data.iloc[idx]['GPT4']\n",
    "                train_data_list.append(dic)\n",
    "\n",
    "    train_data_path = f'data/diff_len/{length}/'\n",
    "    if not os.path.exists(train_data_path):\n",
    "        os.makedirs(train_data_path)\n",
    "    with open(f'{train_data_path}/train.json', 'w', encoding='utf-8') as f:\n",
    "        f.close()\n",
    "    with open(f'{train_data_path}/train.json', 'a+', encoding='utf-8') as f:\n",
    "        random.shuffle(train_data_list)\n",
    "        for i in range(len(train_data_list)):\n",
    "            data = train_data_list[i]\n",
    "            json.dump(data, f, ensure_ascii=False)\n",
    "            f.write('\\n')\n",
    "        f.close()\n",
    "        "
   ]
  }
 ],
 "metadata": {
  "kernelspec": {
   "display_name": "Python 3",
   "language": "python",
   "name": "python3"
  },
  "language_info": {
   "codemirror_mode": {
    "name": "ipython",
    "version": 3
   },
   "file_extension": ".py",
   "mimetype": "text/x-python",
   "name": "python",
   "nbconvert_exporter": "python",
   "pygments_lexer": "ipython3",
   "version": "3.9.12"
  }
 },
 "nbformat": 4,
 "nbformat_minor": 0
}